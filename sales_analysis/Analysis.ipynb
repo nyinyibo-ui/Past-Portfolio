{
 "cells": [
  {
   "cell_type": "code",
   "execution_count": 1,
   "metadata": {
    "executionInfo": {
     "elapsed": 2004,
     "status": "ok",
     "timestamp": 1651980802955,
     "user": {
      "displayName": "nyi bo",
      "userId": "17231526246512574964"
     },
     "user_tz": -390
    },
    "id": "kdqFOFKuur6X"
   },
   "outputs": [],
   "source": [
    "#importing libs\n",
    "import pandas as pd               #data manupilation\n",
    "import os                         #directory operation\n",
    "import numpy as np                #for mathematical operation\n",
    "import matplotlib.pyplot as plt   #for plotting\n",
    "import seaborn as sns             #######\n",
    "import plotly.express as px       #######\n",
    "import squarify#pip install squarify\n",
    "from itertools import combinations #count \n",
    "from collections import Counter    #count"
   ]
  },
  {
   "cell_type": "code",
   "execution_count": 2,
   "metadata": {
    "colab": {
     "base_uri": "https://localhost:8080/",
     "height": 598
    },
    "executionInfo": {
     "elapsed": 2241,
     "status": "ok",
     "timestamp": 1651980833298,
     "user": {
      "displayName": "nyi bo",
      "userId": "17231526246512574964"
     },
     "user_tz": -390
    },
    "id": "g3lRsAYFKg4N",
    "outputId": "59ab6142-a673-4201-8f6a-36079636f615"
   },
   "outputs": [
    {
     "data": {
      "text/html": [
       "<div>\n",
       "<style scoped>\n",
       "    .dataframe tbody tr th:only-of-type {\n",
       "        vertical-align: middle;\n",
       "    }\n",
       "\n",
       "    .dataframe tbody tr th {\n",
       "        vertical-align: top;\n",
       "    }\n",
       "\n",
       "    .dataframe thead th {\n",
       "        text-align: right;\n",
       "    }\n",
       "</style>\n",
       "<table border=\"1\" class=\"dataframe\">\n",
       "  <thead>\n",
       "    <tr style=\"text-align: right;\">\n",
       "      <th></th>\n",
       "      <th>Order ID</th>\n",
       "      <th>Product</th>\n",
       "      <th>Quantity Ordered</th>\n",
       "      <th>Price Each</th>\n",
       "      <th>Order Date</th>\n",
       "      <th>Order_Month</th>\n",
       "      <th>Order_day</th>\n",
       "      <th>Address</th>\n",
       "      <th>City</th>\n",
       "      <th>Zip_Code</th>\n",
       "      <th>Product_cat</th>\n",
       "      <th>Quantity_cat</th>\n",
       "    </tr>\n",
       "  </thead>\n",
       "  <tbody>\n",
       "    <tr>\n",
       "      <th>0</th>\n",
       "      <td>248151.0</td>\n",
       "      <td>AA Batteries (4-pack)</td>\n",
       "      <td>4.0</td>\n",
       "      <td>3.84</td>\n",
       "      <td>2019-09-17 14:44:00</td>\n",
       "      <td>September</td>\n",
       "      <td>Tuesday</td>\n",
       "      <td>380 North St</td>\n",
       "      <td>Los Angeles</td>\n",
       "      <td>CA 90001</td>\n",
       "      <td>cheap</td>\n",
       "      <td>market</td>\n",
       "    </tr>\n",
       "    <tr>\n",
       "      <th>1</th>\n",
       "      <td>248152.0</td>\n",
       "      <td>USB-C Charging Cable</td>\n",
       "      <td>2.0</td>\n",
       "      <td>11.95</td>\n",
       "      <td>2019-09-29 10:19:00</td>\n",
       "      <td>September</td>\n",
       "      <td>Sunday</td>\n",
       "      <td>511 8th St</td>\n",
       "      <td>Austin</td>\n",
       "      <td>TX 73301</td>\n",
       "      <td>cheap</td>\n",
       "      <td>normal</td>\n",
       "    </tr>\n",
       "    <tr>\n",
       "      <th>2</th>\n",
       "      <td>248153.0</td>\n",
       "      <td>USB-C Charging Cable</td>\n",
       "      <td>1.0</td>\n",
       "      <td>11.95</td>\n",
       "      <td>2019-09-16 17:48:00</td>\n",
       "      <td>September</td>\n",
       "      <td>Monday</td>\n",
       "      <td>151 Johnson St</td>\n",
       "      <td>Los Angeles</td>\n",
       "      <td>CA 90001</td>\n",
       "      <td>cheap</td>\n",
       "      <td>normal</td>\n",
       "    </tr>\n",
       "    <tr>\n",
       "      <th>3</th>\n",
       "      <td>248154.0</td>\n",
       "      <td>27in FHD Monitor</td>\n",
       "      <td>1.0</td>\n",
       "      <td>149.99</td>\n",
       "      <td>2019-09-27 07:52:00</td>\n",
       "      <td>September</td>\n",
       "      <td>Friday</td>\n",
       "      <td>355 Hickory St</td>\n",
       "      <td>Seattle</td>\n",
       "      <td>WA 98101</td>\n",
       "      <td>expensive</td>\n",
       "      <td>normal</td>\n",
       "    </tr>\n",
       "    <tr>\n",
       "      <th>4</th>\n",
       "      <td>248155.0</td>\n",
       "      <td>USB-C Charging Cable</td>\n",
       "      <td>1.0</td>\n",
       "      <td>11.95</td>\n",
       "      <td>2019-09-01 19:03:00</td>\n",
       "      <td>September</td>\n",
       "      <td>Sunday</td>\n",
       "      <td>125 5th St</td>\n",
       "      <td>Atlanta</td>\n",
       "      <td>GA 30301</td>\n",
       "      <td>cheap</td>\n",
       "      <td>normal</td>\n",
       "    </tr>\n",
       "    <tr>\n",
       "      <th>5</th>\n",
       "      <td>248156.0</td>\n",
       "      <td>34in Ultrawide Monitor</td>\n",
       "      <td>1.0</td>\n",
       "      <td>379.99</td>\n",
       "      <td>2019-09-13 14:59:00</td>\n",
       "      <td>September</td>\n",
       "      <td>Friday</td>\n",
       "      <td>469 12th St</td>\n",
       "      <td>Los Angeles</td>\n",
       "      <td>CA 90001</td>\n",
       "      <td>fancy</td>\n",
       "      <td>normal</td>\n",
       "    </tr>\n",
       "    <tr>\n",
       "      <th>6</th>\n",
       "      <td>248157.0</td>\n",
       "      <td>Lightning Charging Cable</td>\n",
       "      <td>1.0</td>\n",
       "      <td>14.95</td>\n",
       "      <td>2019-09-07 09:59:00</td>\n",
       "      <td>September</td>\n",
       "      <td>Saturday</td>\n",
       "      <td>773 Johnson St</td>\n",
       "      <td>Portland</td>\n",
       "      <td>ME 04101</td>\n",
       "      <td>affordable</td>\n",
       "      <td>normal</td>\n",
       "    </tr>\n",
       "    <tr>\n",
       "      <th>7</th>\n",
       "      <td>248158.0</td>\n",
       "      <td>Lightning Charging Cable</td>\n",
       "      <td>1.0</td>\n",
       "      <td>14.95</td>\n",
       "      <td>2019-09-02 14:16:00</td>\n",
       "      <td>September</td>\n",
       "      <td>Monday</td>\n",
       "      <td>682 Sunset St</td>\n",
       "      <td>Los Angeles</td>\n",
       "      <td>CA 90001</td>\n",
       "      <td>affordable</td>\n",
       "      <td>normal</td>\n",
       "    </tr>\n",
       "    <tr>\n",
       "      <th>8</th>\n",
       "      <td>248159.0</td>\n",
       "      <td>Vareebadd Phone</td>\n",
       "      <td>1.0</td>\n",
       "      <td>400.00</td>\n",
       "      <td>2019-09-06 16:45:00</td>\n",
       "      <td>September</td>\n",
       "      <td>Friday</td>\n",
       "      <td>664 Wilson St</td>\n",
       "      <td>New York City</td>\n",
       "      <td>NY 10001</td>\n",
       "      <td>fancy</td>\n",
       "      <td>normal</td>\n",
       "    </tr>\n",
       "    <tr>\n",
       "      <th>9</th>\n",
       "      <td>248160.0</td>\n",
       "      <td>Wired Headphones</td>\n",
       "      <td>1.0</td>\n",
       "      <td>11.99</td>\n",
       "      <td>2019-09-01 22:03:00</td>\n",
       "      <td>September</td>\n",
       "      <td>Sunday</td>\n",
       "      <td>446 9th St</td>\n",
       "      <td>San Francisco</td>\n",
       "      <td>CA 94016</td>\n",
       "      <td>affordable</td>\n",
       "      <td>normal</td>\n",
       "    </tr>\n",
       "  </tbody>\n",
       "</table>\n",
       "</div>"
      ],
      "text/plain": [
       "   Order ID                   Product  Quantity Ordered  Price Each  \\\n",
       "0  248151.0     AA Batteries (4-pack)               4.0        3.84   \n",
       "1  248152.0      USB-C Charging Cable               2.0       11.95   \n",
       "2  248153.0      USB-C Charging Cable               1.0       11.95   \n",
       "3  248154.0          27in FHD Monitor               1.0      149.99   \n",
       "4  248155.0      USB-C Charging Cable               1.0       11.95   \n",
       "5  248156.0    34in Ultrawide Monitor               1.0      379.99   \n",
       "6  248157.0  Lightning Charging Cable               1.0       14.95   \n",
       "7  248158.0  Lightning Charging Cable               1.0       14.95   \n",
       "8  248159.0           Vareebadd Phone               1.0      400.00   \n",
       "9  248160.0          Wired Headphones               1.0       11.99   \n",
       "\n",
       "            Order Date Order_Month Order_day         Address            City  \\\n",
       "0  2019-09-17 14:44:00   September   Tuesday    380 North St     Los Angeles   \n",
       "1  2019-09-29 10:19:00   September    Sunday      511 8th St          Austin   \n",
       "2  2019-09-16 17:48:00   September    Monday  151 Johnson St     Los Angeles   \n",
       "3  2019-09-27 07:52:00   September    Friday  355 Hickory St         Seattle   \n",
       "4  2019-09-01 19:03:00   September    Sunday      125 5th St         Atlanta   \n",
       "5  2019-09-13 14:59:00   September    Friday     469 12th St     Los Angeles   \n",
       "6  2019-09-07 09:59:00   September  Saturday  773 Johnson St        Portland   \n",
       "7  2019-09-02 14:16:00   September    Monday   682 Sunset St     Los Angeles   \n",
       "8  2019-09-06 16:45:00   September    Friday   664 Wilson St   New York City   \n",
       "9  2019-09-01 22:03:00   September    Sunday      446 9th St   San Francisco   \n",
       "\n",
       "    Zip_Code Product_cat Quantity_cat  \n",
       "0   CA 90001       cheap       market  \n",
       "1   TX 73301       cheap       normal  \n",
       "2   CA 90001       cheap       normal  \n",
       "3   WA 98101   expensive       normal  \n",
       "4   GA 30301       cheap       normal  \n",
       "5   CA 90001       fancy       normal  \n",
       "6   ME 04101  affordable       normal  \n",
       "7   CA 90001  affordable       normal  \n",
       "8   NY 10001       fancy       normal  \n",
       "9   CA 94016  affordable       normal  "
      ]
     },
     "execution_count": 2,
     "metadata": {},
     "output_type": "execute_result"
    }
   ],
   "source": [
    "#read updated data frames\n",
    "df=pd.read_csv(\"Sales_Data/prepared_df.csv\")\n",
    "df.head(10)"
   ]
  },
  {
   "cell_type": "markdown",
   "metadata": {
    "id": "pjXxEXyGya14"
   },
   "source": [
    "<h1>Question and Answers</h1>"
   ]
  },
  {
   "cell_type": "markdown",
   "metadata": {
    "id": "UV1jJnaexyQT"
   },
   "source": [
    "<p><code>Question 1:</code>what is the best month for sales?How much was earned that month</p>"
   ]
  },
  {
   "cell_type": "code",
   "execution_count": 3,
   "metadata": {
    "executionInfo": {
     "elapsed": 36,
     "status": "ok",
     "timestamp": 1651980833301,
     "user": {
      "displayName": "nyi bo",
      "userId": "17231526246512574964"
     },
     "user_tz": -390
    },
    "id": "XgRaX6I8zB8K"
   },
   "outputs": [],
   "source": [
    "#total price column\n",
    "df[\"Total Price\"]=df[\"Price Each\"]*df[\"Quantity Ordered\"]"
   ]
  },
  {
   "cell_type": "code",
   "execution_count": 4,
   "metadata": {
    "colab": {
     "base_uri": "https://localhost:8080/"
    },
    "executionInfo": {
     "elapsed": 37,
     "status": "ok",
     "timestamp": 1651980833305,
     "user": {
      "displayName": "nyi bo",
      "userId": "17231526246512574964"
     },
     "user_tz": -390
    },
    "id": "jnSYy30_zUG7",
    "outputId": "a476a9fe-15a8-4156-86a6-598c10d3cd98"
   },
   "outputs": [
    {
     "data": {
      "text/plain": [
       "Order_Month\n",
       "January      1820569.59\n",
       "February     2198133.74\n",
       "March        2802846.32\n",
       "April        3387765.72\n",
       "May          3148625.71\n",
       "June         2574758.04\n",
       "July         2645146.88\n",
       "August       2237698.86\n",
       "September    2091371.25\n",
       "October      3732828.84\n",
       "November     3196146.90\n",
       "December     4603148.06\n",
       "Name: Total Price, dtype: float64"
      ]
     },
     "execution_count": 4,
     "metadata": {},
     "output_type": "execute_result"
    }
   ],
   "source": [
    "#create monthly group\n",
    "monthly_grp=df.groupby(\"Order_Month\")[\"Total Price\"].sum()\n",
    "new_order = ['January', 'February', 'March', 'April', 'May', 'June', 'July', 'August', 'September', 'October', 'November', 'December']\n",
    "\n",
    "monthly_grp = monthly_grp.reindex(new_order, axis=0)\n",
    "monthly_grp"
   ]
  },
  {
   "cell_type": "code",
   "execution_count": 5,
   "metadata": {
    "executionInfo": {
     "elapsed": 34,
     "status": "ok",
     "timestamp": 1651980833306,
     "user": {
      "displayName": "nyi bo",
      "userId": "17231526246512574964"
     },
     "user_tz": -390
    },
    "id": "vl66ylb6K3KA"
   },
   "outputs": [],
   "source": [
    "#function to add labels\n",
    "def addlabels(x,y):\n",
    "    for i in range(len(x)):\n",
    "        plt.text(i, y[i], y[i], ha = 'center',\n",
    "                 Bbox = dict(facecolor = 'yellow', alpha =.8))\n",
    "#function to plot barplot\n",
    "def bar(grp:pd.DataFrame):\n",
    "  fig,ax=plt.subplots(figsize=(15,6))\n",
    "  grp.plot(kind=\"bar\",ax=ax)\n",
    "  ax.set_ylabel(\"Sales in USD($)\")\n",
    "  addlabels(grp.index,grp.values)\n",
    "  plt.show()"
   ]
  },
  {
   "cell_type": "code",
   "execution_count": 6,
   "metadata": {
    "colab": {
     "base_uri": "https://localhost:8080/",
     "height": 445
    },
    "executionInfo": {
     "elapsed": 35,
     "status": "ok",
     "timestamp": 1651980833308,
     "user": {
      "displayName": "nyi bo",
      "userId": "17231526246512574964"
     },
     "user_tz": -390
    },
    "id": "kM85agBO8Q8a",
    "outputId": "44580e06-b369-44df-c2c9-21138099d577"
   },
   "outputs": [
    {
     "name": "stderr",
     "output_type": "stream",
     "text": [
      "C:\\Users\\alexe\\AppData\\Local\\Temp/ipykernel_18140/120718051.py:4: MatplotlibDeprecationWarning: Case-insensitive properties were deprecated in 3.3 and support will be removed two minor releases later\n",
      "  plt.text(i, y[i], y[i], ha = 'center',\n"
     ]
    },
    {
     "data": {
      "image/png": "[encoded data removed]",
      "text/plain": [
       "<Figure size 1080x432 with 1 Axes>"
      ]
     },
     "metadata": {
      "needs_background": "light"
     },
     "output_type": "display_data"
    }
   ],
   "source": [
    "bar(monthly_grp)"
   ]
  },
  {
   "cell_type": "markdown",
   "metadata": {
    "id": "iA9-mOOB2_dE"
   },
   "source": [
    "<p><code>Answer:</code>December is the month with the highest money earned</p>\n",
    "<hr>"
   ]
  },
  {
   "cell_type": "markdown",
   "metadata": {
    "id": "-n1ljkgC3PLu"
   },
   "source": [
    "<p><code>Question 2</code>What city has the highest number of sales</p>"
   ]
  },
  {
   "cell_type": "code",
   "execution_count": 7,
   "metadata": {
    "colab": {
     "base_uri": "https://localhost:8080/"
    },
    "executionInfo": {
     "elapsed": 35,
     "status": "ok",
     "timestamp": 1651980833310,
     "user": {
      "displayName": "nyi bo",
      "userId": "17231526246512574964"
     },
     "user_tz": -390
    },
    "id": "nSh3hfz92Ubg",
    "outputId": "a7cae28a-5189-40c2-e67a-7e88c42eb839"
   },
   "outputs": [
    {
     "data": {
      "text/plain": [
       " San Francisco    44592\n",
       " Los Angeles      29523\n",
       " New York City    24818\n",
       " Boston           19868\n",
       " Atlanta          14845\n",
       " Dallas           14774\n",
       " Seattle          14694\n",
       " Portland         12433\n",
       " Austin            9875\n",
       "Name: City, dtype: int64"
      ]
     },
     "execution_count": 7,
     "metadata": {},
     "output_type": "execute_result"
    }
   ],
   "source": [
    "#unique cities with the amount of orders\n",
    "df[\"City\"].value_counts()"
   ]
  },
  {
   "cell_type": "markdown",
   "metadata": {
    "id": "0d3QfLjm68Lz"
   },
   "source": [
    "San Francisco has the most orders. \n",
    "I guess it might have the highest sales.\n",
    "Let's dive deeper for further informations"
   ]
  },
  {
   "cell_type": "code",
   "execution_count": 8,
   "metadata": {
    "colab": {
     "base_uri": "https://localhost:8080/"
    },
    "executionInfo": {
     "elapsed": 34,
     "status": "ok",
     "timestamp": 1651980833315,
     "user": {
      "displayName": "nyi bo",
      "userId": "17231526246512574964"
     },
     "user_tz": -390
    },
    "id": "ovGvw5Wf3dbL",
    "outputId": "7723b2b3-21c4-49ec-b1ac-9369645c9eeb"
   },
   "outputs": [
    {
     "data": {
      "text/plain": [
       "City            Zip_Code \n",
       " Atlanta         GA 30301    2792899.56\n",
       " Austin          TX 73301    1816506.91\n",
       " Boston          MA 02215    3655613.29\n",
       " Dallas          TX 75001    2762772.52\n",
       " Los Angeles     CA 90001    5444037.76\n",
       " New York City   NY 10001    4659416.85\n",
       " Portland        ME 04101     448884.49\n",
       "                 OR 97035    1869288.78\n",
       " San Francisco   CA 94016    8247283.19\n",
       " Seattle         WA 98101    2742336.56\n",
       "Name: Total Price, dtype: float64"
      ]
     },
     "execution_count": 8,
     "metadata": {},
     "output_type": "execute_result"
    }
   ],
   "source": [
    "city_grp=df.groupby([\"City\",\"Zip_Code\"])[\"Total Price\"].sum()\n",
    "city_grp"
   ]
  },
  {
   "cell_type": "code",
   "execution_count": 9,
   "metadata": {
    "colab": {
     "base_uri": "https://localhost:8080/",
     "height": 527
    },
    "executionInfo": {
     "elapsed": 821,
     "status": "ok",
     "timestamp": 1651980834106,
     "user": {
      "displayName": "nyi bo",
      "userId": "17231526246512574964"
     },
     "user_tz": -390
    },
    "id": "hDuvHUZW75Kk",
    "outputId": "01571c27-7939-452b-ae55-3204a9bf9524"
   },
   "outputs": [
    {
     "name": "stderr",
     "output_type": "stream",
     "text": [
      "C:\\Users\\alexe\\AppData\\Local\\Temp/ipykernel_18140/120718051.py:4: MatplotlibDeprecationWarning: Case-insensitive properties were deprecated in 3.3 and support will be removed two minor releases later\n",
      "  plt.text(i, y[i], y[i], ha = 'center',\n"
     ]
    },
    {
     "data": {
      "image/png": "[encoded data removed]",
      "text/plain": [
       "<Figure size 1080x432 with 1 Axes>"
      ]
     },
     "metadata": {
      "needs_background": "light"
     },
     "output_type": "display_data"
    }
   ],
   "source": [
    "bar(city_grp)"
   ]
  },
  {
   "cell_type": "code",
   "execution_count": 10,
   "metadata": {
    "colab": {
     "base_uri": "https://localhost:8080/"
    },
    "executionInfo": {
     "elapsed": 2586,
     "status": "ok",
     "timestamp": 1651980836664,
     "user": {
      "displayName": "nyi bo",
      "userId": "17231526246512574964"
     },
     "user_tz": -390
    },
    "id": "ZLi50AL3b1CX",
    "outputId": "e394ba02-a851-46c5-d1da-05d1ec862071"
   },
   "outputs": [
    {
     "name": "stdout",
     "output_type": "stream",
     "text": [
      "Requirement already satisfied: pandas_bokeh in c:\\users\\alexe\\anaconda3\\lib\\site-packages (0.5.5)\n",
      "Requirement already satisfied: bokeh>=2.0 in c:\\users\\alexe\\anaconda3\\lib\\site-packages (from pandas_bokeh) (2.4.1)\n",
      "Requirement already satisfied: pandas>=0.22.0 in c:\\users\\alexe\\anaconda3\\lib\\site-packages (from pandas_bokeh) (1.3.4)\n",
      "Requirement already satisfied: pillow>=7.1.0 in c:\\users\\alexe\\anaconda3\\lib\\site-packages (from bokeh>=2.0->pandas_bokeh) (8.4.0)\n",
      "Requirement already satisfied: typing-extensions>=3.10.0 in c:\\users\\alexe\\anaconda3\\lib\\site-packages (from bokeh>=2.0->pandas_bokeh) (3.10.0.2)\n",
      "Requirement already satisfied: tornado>=5.1 in c:\\users\\alexe\\anaconda3\\lib\\site-packages (from bokeh>=2.0->pandas_bokeh) (6.1)\n",
      "Requirement already satisfied: Jinja2>=2.9 in c:\\users\\alexe\\anaconda3\\lib\\site-packages (from bokeh>=2.0->pandas_bokeh) (2.11.3)\n",
      "Requirement already satisfied: PyYAML>=3.10 in c:\\users\\alexe\\anaconda3\\lib\\site-packages (from bokeh>=2.0->pandas_bokeh) (6.0)\n",
      "Requirement already satisfied: packaging>=16.8 in c:\\users\\alexe\\anaconda3\\lib\\site-packages (from bokeh>=2.0->pandas_bokeh) (21.0)\n",
      "Requirement already satisfied: numpy>=1.11.3 in c:\\users\\alexe\\anaconda3\\lib\\site-packages (from bokeh>=2.0->pandas_bokeh) (1.20.3)\n",
      "Requirement already satisfied: MarkupSafe>=0.23 in c:\\users\\alexe\\anaconda3\\lib\\site-packages (from Jinja2>=2.9->bokeh>=2.0->pandas_bokeh) (1.1.1)\n",
      "Requirement already satisfied: pyparsing>=2.0.2 in c:\\users\\alexe\\anaconda3\\lib\\site-packages (from packaging>=16.8->bokeh>=2.0->pandas_bokeh) (3.0.4)\n",
      "Requirement already satisfied: pytz>=2017.3 in c:\\users\\alexe\\anaconda3\\lib\\site-packages (from pandas>=0.22.0->pandas_bokeh) (2021.3)\n",
      "Requirement already satisfied: python-dateutil>=2.7.3 in c:\\users\\alexe\\anaconda3\\lib\\site-packages (from pandas>=0.22.0->pandas_bokeh) (2.8.2)\n",
      "Requirement already satisfied: six>=1.5 in c:\\users\\alexe\\anaconda3\\lib\\site-packages (from python-dateutil>=2.7.3->pandas>=0.22.0->pandas_bokeh) (1.16.0)\n",
      "Note: you may need to restart the kernel to use updated packages.\n"
     ]
    }
   ],
   "source": [
    "%pip install pandas_bokeh"
   ]
  },
  {
   "cell_type": "code",
   "execution_count": 11,
   "metadata": {
    "colab": {
     "base_uri": "https://localhost:8080/"
    },
    "executionInfo": {
     "elapsed": 3469,
     "status": "ok",
     "timestamp": 1651980840124,
     "user": {
      "displayName": "nyi bo",
      "userId": "17231526246512574964"
     },
     "user_tz": -390
    },
    "id": "NLbcjR5LcApc",
    "outputId": "dc43c3d7-8848-4734-f217-baa3f7aa0fe2"
   },
   "outputs": [
    {
     "name": "stdout",
     "output_type": "stream",
     "text": [
      "Requirement already satisfied: pgeocode in c:\\users\\alexe\\anaconda3\\lib\\site-packages (0.3.0)\n",
      "Requirement already satisfied: pandas in c:\\users\\alexe\\anaconda3\\lib\\site-packages (from pgeocode) (1.3.4)\n",
      "Requirement already satisfied: numpy in c:\\users\\alexe\\anaconda3\\lib\\site-packages (from pgeocode) (1.20.3)\n",
      "Requirement already satisfied: requests in c:\\users\\alexe\\anaconda3\\lib\\site-packages (from pgeocode) (2.26.0)\n",
      "Requirement already satisfied: pytz>=2017.3 in c:\\users\\alexe\\anaconda3\\lib\\site-packages (from pandas->pgeocode) (2021.3)\n",
      "Requirement already satisfied: python-dateutil>=2.7.3 in c:\\users\\alexe\\anaconda3\\lib\\site-packages (from pandas->pgeocode) (2.8.2)\n",
      "Requirement already satisfied: six>=1.5 in c:\\users\\alexe\\anaconda3\\lib\\site-packages (from python-dateutil>=2.7.3->pandas->pgeocode) (1.16.0)\n",
      "Requirement already satisfied: idna<4,>=2.5 in c:\\users\\alexe\\anaconda3\\lib\\site-packages (from requests->pgeocode) (3.2)\n",
      "Requirement already satisfied: urllib3<1.27,>=1.21.1 in c:\\users\\alexe\\anaconda3\\lib\\site-packages (from requests->pgeocode) (1.26.7)\n",
      "Requirement already satisfied: charset-normalizer~=2.0.0 in c:\\users\\alexe\\anaconda3\\lib\\site-packages (from requests->pgeocode) (2.0.4)\n",
      "Requirement already satisfied: certifi>=2017.4.17 in c:\\users\\alexe\\anaconda3\\lib\\site-packages (from requests->pgeocode) (2021.10.8)\n",
      "Note: you may need to restart the kernel to use updated packages.\n"
     ]
    }
   ],
   "source": [
    "%pip install pgeocode"
   ]
  },
  {
   "cell_type": "code",
   "execution_count": 12,
   "metadata": {
    "executionInfo": {
     "elapsed": 14,
     "status": "ok",
     "timestamp": 1651980840125,
     "user": {
      "displayName": "nyi bo",
      "userId": "17231526246512574964"
     },
     "user_tz": -390
    },
    "id": "Q9QWS37D8ctc"
   },
   "outputs": [],
   "source": [
    "#function to creat map plot\n",
    "def map_plot(df:pd.DataFrame):\n",
    "  import pandas_bokeh\n",
    "  import pgeocode\n",
    "  from shapely.geometry import Point\n",
    "  pandas_bokeh.output_notebook()\n",
    "  import plotly.express as px\n",
    "  import plotly.graph_objects as go\n",
    "\n",
    "  nomi = pgeocode.Nominatim('us')\n",
    "  edf=df.reset_index()\n",
    "\n",
    "  edf[\"zip-code\"]=edf[\"Zip_Code\"].str.split(expand=True)[1]\n",
    "  edf['Latitude'] = (nomi.query_postal_code(edf['zip-code'].tolist()).latitude)\n",
    "  edf['Longitude'] = (nomi.query_postal_code(edf['zip-code'].tolist()).longitude)\n",
    "\n",
    "  scale = 5000\n",
    "\n",
    "  fig = go.Figure(data=go.Scattergeo(\n",
    "        lon = edf['Longitude'],\n",
    "        lat = edf['Latitude'],\n",
    "        mode = 'markers',\n",
    "        marker = dict(\n",
    "            size = edf[\"Total Price\"]/scale,\n",
    "            line_color='rgb(40,40,40)',\n",
    "            line_width=0.5,\n",
    "            sizemode = 'area',\n",
    "            color=\"yellow\",\n",
    "        ),\n",
    "        text=edf[[\"City\",\"Total Price\"]]\n",
    "        ))\n",
    "\n",
    "  fig.update_layout(\n",
    "          title_text = 'Sales Distribution of 10 cities in USA',\n",
    "          geo = dict(\n",
    "              scope = 'usa',\n",
    "              landcolor = 'rgb(217, 217, 217)',\n",
    "          )\n",
    "      )\n",
    "  fig.show()\n"
   ]
  },
  {
   "cell_type": "code",
   "execution_count": 13,
   "metadata": {
    "colab": {
     "base_uri": "https://localhost:8080/",
     "height": 542
    },
    "executionInfo": {
     "elapsed": 3181,
     "status": "ok",
     "timestamp": 1651980843295,
     "user": {
      "displayName": "nyi bo",
      "userId": "17231526246512574964"
     },
     "user_tz": -390
    },
    "id": "tEz52p669znq",
    "outputId": "dcd5075d-d697-4145-8c34-8141bc3379cb"
   },
   "outputs": [
    {
     "data": {
      "text/html": [
       "\n",
       "    <div class=\"bk-root\">\n",
       "        <a href=\"https://bokeh.org\" target=\"_blank\" class=\"bk-logo bk-logo-small bk-logo-notebook\"></a>\n",
       "        <span id=\"1002\">Loading BokehJS ...</span>\n",
       "    </div>"
      ]
     },
     "metadata": {},
     "output_type": "display_data"
    },
    {
     "data": {
      "application/javascript": [
       "\n",
       "(function(root) {\n",
       "  function now() {\n",
       "    return new Date();\n",
       "  }\n",
       "\n",
       "  const force = true;\n",
       "\n",
       "  if (typeof root._bokeh_onload_callbacks === \"undefined\" || force === true) {\n",
       "    root._bokeh_onload_callbacks = [];\n",
       "    root._bokeh_is_loading = undefined;\n",
       "  }\n",
       "\n",
       "  const JS_MIME_TYPE = 'application/javascript';\n",
       "  const HTML_MIME_TYPE = 'text/html';\n",
       "  const EXEC_MIME_TYPE = 'application/vnd.bokehjs_exec.v0+json';\n",
       "  const CLASS_NAME = 'output_bokeh rendered_html';\n",
       "\n",
       "  /**\n",
       "   * Render data to the DOM node\n",
       "   */\n",
       "  function render(props, node) {\n",
       "    const script = document.createElement(\"script\");\n",
       "    node.appendChild(script);\n",
       "  }\n",
       "\n",
       "  /**\n",
       "   * Handle when an output is cleared or removed\n",
       "   */\n",
       "  function handleClearOutput(event, handle) {\n",
       "    const cell = handle.cell;\n",
       "\n",
       "    const id = cell.output_area._bokeh_element_id;\n",
       "    const server_id = cell.output_area._bokeh_server_id;\n",
       "    // Clean up Bokeh references\n",
       "    if (id != null && id in Bokeh.index) {\n",
       "      Bokeh.index[id].model.document.clear();\n",
       "      delete Bokeh.index[id];\n",
       "    }\n",
       "\n",
       "    if (server_id !== undefined) {\n",
       "      // Clean up Bokeh references\n",
       "      const cmd_clean = \"from bokeh.io.state import curstate; print(curstate().uuid_to_server['\" + server_id + \"'].get_sessions()[0].document.roots[0]._id)\";\n",
       "      cell.notebook.kernel.execute(cmd_clean, {\n",
       "        iopub: {\n",
       "          output: function(msg) {\n",
       "            const id = msg.content.text.trim();\n",
       "            if (id in Bokeh.index) {\n",
       "              Bokeh.index[id].model.document.clear();\n",
       "              delete Bokeh.index[id];\n",
       "            }\n",
       "          }\n",
       "        }\n",
       "      });\n",
       "      // Destroy server and session\n",
       "      const cmd_destroy = \"import bokeh.io.notebook as ion; ion.destroy_server('\" + server_id + \"')\";\n",
       "      cell.notebook.kernel.execute(cmd_destroy);\n",
       "    }\n",
       "  }\n",
       "\n",
       "  /**\n",
       "   * Handle when a new output is added\n",
       "   */\n",
       "  function handleAddOutput(event, handle) {\n",
       "    const output_area = handle.output_area;\n",
       "    const output = handle.output;\n",
       "\n",
       "    // limit handleAddOutput to display_data with EXEC_MIME_TYPE content only\n",
       "    if ((output.output_type != \"display_data\") || (!Object.prototype.hasOwnProperty.call(output.data, EXEC_MIME_TYPE))) {\n",
       "      return\n",
       "    }\n",
       "\n",
       "    const toinsert = output_area.element.find(\".\" + CLASS_NAME.split(' ')[0]);\n",
       "\n",
       "    if (output.metadata[EXEC_MIME_TYPE][\"id\"] !== undefined) {\n",
       "      toinsert[toinsert.length - 1].firstChild.textContent = output.data[JS_MIME_TYPE];\n",
       "      // store reference to embed id on output_area\n",
       "      output_area._bokeh_element_id = output.metadata[EXEC_MIME_TYPE][\"id\"];\n",
       "    }\n",
       "    if (output.metadata[EXEC_MIME_TYPE][\"server_id\"] !== undefined) {\n",
       "      const bk_div = document.createElement(\"div\");\n",
       "      bk_div.innerHTML = output.data[HTML_MIME_TYPE];\n",
       "      const script_attrs = bk_div.children[0].attributes;\n",
       "      for (let i = 0; i < script_attrs.length; i++) {\n",
       "        toinsert[toinsert.length - 1].firstChild.setAttribute(script_attrs[i].name, script_attrs[i].value);\n",
       "        toinsert[toinsert.length - 1].firstChild.textContent = bk_div.children[0].textContent\n",
       "      }\n",
       "      // store reference to server id on output_area\n",
       "      output_area._bokeh_server_id = output.metadata[EXEC_MIME_TYPE][\"server_id\"];\n",
       "    }\n",
       "  }\n",
       "\n",
       "  function register_renderer(events, OutputArea) {\n",
       "\n",
       "    function append_mime(data, metadata, element) {\n",
       "      // create a DOM node to render to\n",
       "      const toinsert = this.create_output_subarea(\n",
       "        metadata,\n",
       "        CLASS_NAME,\n",
       "        EXEC_MIME_TYPE\n",
       "      );\n",
       "      this.keyboard_manager.register_events(toinsert);\n",
       "      // Render to node\n",
       "      const props = {data: data, metadata: metadata[EXEC_MIME_TYPE]};\n",
       "      render(props, toinsert[toinsert.length - 1]);\n",
       "      element.append(toinsert);\n",
       "      return toinsert\n",
       "    }\n",
       "\n",
       "    /* Handle when an output is cleared or removed */\n",
       "    events.on('clear_output.CodeCell', handleClearOutput);\n",
       "    events.on('delete.Cell', handleClearOutput);\n",
       "\n",
       "    /* Handle when a new output is added */\n",
       "    events.on('output_added.OutputArea', handleAddOutput);\n",
       "\n",
       "    /**\n",
       "     * Register the mime type and append_mime function with output_area\n",
       "     */\n",
       "    OutputArea.prototype.register_mime_type(EXEC_MIME_TYPE, append_mime, {\n",
       "      /* Is output safe? */\n",
       "      safe: true,\n",
       "      /* Index of renderer in `output_area.display_order` */\n",
       "      index: 0\n",
       "    });\n",
       "  }\n",
       "\n",
       "  // register the mime type if in Jupyter Notebook environment and previously unregistered\n",
       "  if (root.Jupyter !== undefined) {\n",
       "    const events = require('base/js/events');\n",
       "    const OutputArea = require('notebook/js/outputarea').OutputArea;\n",
       "\n",
       "    if (OutputArea.prototype.mime_types().indexOf(EXEC_MIME_TYPE) == -1) {\n",
       "      register_renderer(events, OutputArea);\n",
       "    }\n",
       "  }\n",
       "\n",
       "  \n",
       "  if (typeof (root._bokeh_timeout) === \"undefined\" || force === true) {\n",
       "    root._bokeh_timeout = Date.now() + 5000;\n",
       "    root._bokeh_failed_load = false;\n",
       "  }\n",
       "\n",
       "  const NB_LOAD_WARNING = {'data': {'text/html':\n",
       "     \"<div style='background-color: #fdd'>\\n\"+\n",
       "     \"<p>\\n\"+\n",
       "     \"BokehJS does not appear to have successfully loaded. If loading BokehJS from CDN, this \\n\"+\n",
       "     \"may be due to a slow or bad network connection. Possible fixes:\\n\"+\n",
       "     \"</p>\\n\"+\n",
       "     \"<ul>\\n\"+\n",
       "     \"<li>re-rerun `output_notebook()` to attempt to load from CDN again, or</li>\\n\"+\n",
       "     \"<li>use INLINE resources instead, as so:</li>\\n\"+\n",
       "     \"</ul>\\n\"+\n",
       "     \"<code>\\n\"+\n",
       "     \"from bokeh.resources import INLINE\\n\"+\n",
       "     \"output_notebook(resources=INLINE)\\n\"+\n",
       "     \"</code>\\n\"+\n",
       "     \"</div>\"}};\n",
       "\n",
       "  function display_loaded() {\n",
       "    const el = document.getElementById(\"1002\");\n",
       "    if (el != null) {\n",
       "      el.textContent = \"BokehJS is loading...\";\n",
       "    }\n",
       "    if (root.Bokeh !== undefined) {\n",
       "      if (el != null) {\n",
       "        el.textContent = \"BokehJS \" + root.Bokeh.version + \" successfully loaded.\";\n",
       "      }\n",
       "    } else if (Date.now() < root._bokeh_timeout) {\n",
       "      setTimeout(display_loaded, 100)\n",
       "    }\n",
       "  }\n",
       "\n",
       "\n",
       "  function run_callbacks() {\n",
       "    try {\n",
       "      root._bokeh_onload_callbacks.forEach(function(callback) {\n",
       "        if (callback != null)\n",
       "          callback();\n",
       "      });\n",
       "    } finally {\n",
       "      delete root._bokeh_onload_callbacks\n",
       "    }\n",
       "    console.debug(\"Bokeh: all callbacks have finished\");\n",
       "  }\n",
       "\n",
       "  function load_libs(css_urls, js_urls, callback) {\n",
       "    if (css_urls == null) css_urls = [];\n",
       "    if (js_urls == null) js_urls = [];\n",
       "\n",
       "    root._bokeh_onload_callbacks.push(callback);\n",
       "    if (root._bokeh_is_loading > 0) {\n",
       "      console.debug(\"Bokeh: BokehJS is being loaded, scheduling callback at\", now());\n",
       "      return null;\n",
       "    }\n",
       "    if (js_urls == null || js_urls.length === 0) {\n",
       "      run_callbacks();\n",
       "      return null;\n",
       "    }\n",
       "    console.debug(\"Bokeh: BokehJS not loaded, scheduling load and callback at\", now());\n",
       "    root._bokeh_is_loading = css_urls.length + js_urls.length;\n",
       "\n",
       "    function on_load() {\n",
       "      root._bokeh_is_loading--;\n",
       "      if (root._bokeh_is_loading === 0) {\n",
       "        console.debug(\"Bokeh: all BokehJS libraries/stylesheets loaded\");\n",
       "        run_callbacks()\n",
       "      }\n",
       "    }\n",
       "\n",
       "    function on_error(url) {\n",
       "      console.error(\"failed to load \" + url);\n",
       "    }\n",
       "\n",
       "    for (let i = 0; i < css_urls.length; i++) {\n",
       "      const url = css_urls[i];\n",
       "      const element = document.createElement(\"link\");\n",
       "      element.onload = on_load;\n",
       "      element.onerror = on_error.bind(null, url);\n",
       "      element.rel = \"stylesheet\";\n",
       "      element.type = \"text/css\";\n",
       "      element.href = url;\n",
       "      console.debug(\"Bokeh: injecting link tag for BokehJS stylesheet: \", url);\n",
       "      document.body.appendChild(element);\n",
       "    }\n",
       "\n",
       "    for (let i = 0; i < js_urls.length; i++) {\n",
       "      const url = js_urls[i];\n",
       "      const element = document.createElement('script');\n",
       "      element.onload = on_load;\n",
       "      element.onerror = on_error.bind(null, url);\n",
       "      element.async = false;\n",
       "      element.src = url;\n",
       "      console.debug(\"Bokeh: injecting script tag for BokehJS library: \", url);\n",
       "      document.head.appendChild(element);\n",
       "    }\n",
       "  };\n",
       "\n",
       "  function inject_raw_css(css) {\n",
       "    const element = document.createElement(\"style\");\n",
       "    element.appendChild(document.createTextNode(css));\n",
       "    document.body.appendChild(element);\n",
       "  }\n",
       "\n",
       "  \n",
       "  const js_urls = [\"https://cdn.bokeh.org/bokeh/release/bokeh-2.4.1.min.js\", \"https://cdn.bokeh.org/bokeh/release/bokeh-gl-2.4.1.min.js\", \"https://cdn.bokeh.org/bokeh/release/bokeh-widgets-2.4.1.min.js\", \"https://cdn.bokeh.org/bokeh/release/bokeh-tables-2.4.1.min.js\", \"https://cdn.bokeh.org/bokeh/release/bokeh-mathjax-2.4.1.min.js\"];\n",
       "  const css_urls = [];\n",
       "  \n",
       "\n",
       "  const inline_js = [\n",
       "    function(Bokeh) {\n",
       "      Bokeh.set_log_level(\"info\");\n",
       "    },\n",
       "    function(Bokeh) {\n",
       "    \n",
       "    \n",
       "    }\n",
       "  ];\n",
       "\n",
       "  function run_inline_js() {\n",
       "    \n",
       "    if (root.Bokeh !== undefined || force === true) {\n",
       "      \n",
       "    for (let i = 0; i < inline_js.length; i++) {\n",
       "      inline_js[i].call(root, root.Bokeh);\n",
       "    }\n",
       "    if (force === true) {\n",
       "        display_loaded();\n",
       "      }} else if (Date.now() < root._bokeh_timeout) {\n",
       "      setTimeout(run_inline_js, 100);\n",
       "    } else if (!root._bokeh_failed_load) {\n",
       "      console.log(\"Bokeh: BokehJS failed to load within specified timeout.\");\n",
       "      root._bokeh_failed_load = true;\n",
       "    } else if (force !== true) {\n",
       "      const cell = $(document.getElementById(\"1002\")).parents('.cell').data().cell;\n",
       "      cell.output_area.append_execute_result(NB_LOAD_WARNING)\n",
       "    }\n",
       "\n",
       "  }\n",
       "\n",
       "  if (root._bokeh_is_loading === 0) {\n",
       "    console.debug(\"Bokeh: BokehJS loaded, going straight to plotting\");\n",
       "    run_inline_js();\n",
       "  } else {\n",
       "    load_libs(css_urls, js_urls, function() {\n",
       "      console.debug(\"Bokeh: BokehJS plotting callback run at\", now());\n",
       "      run_inline_js();\n",
       "    });\n",
       "  }\n",
       "}(window));"
      ],
      "application/vnd.bokehjs_load.v0+json": "\n(function(root) {\n  function now() {\n    return new Date();\n  }\n\n  const force = true;\n\n  if (typeof root._bokeh_onload_callbacks === \"undefined\" || force === true) {\n    root._bokeh_onload_callbacks = [];\n    root._bokeh_is_loading = undefined;\n  }\n\n  \n\n  \n  if (typeof (root._bokeh_timeout) === \"undefined\" || force === true) {\n    root._bokeh_timeout = Date.now() + 5000;\n    root._bokeh_failed_load = false;\n  }\n\n  const NB_LOAD_WARNING = {'data': {'text/html':\n     \"<div style='background-color: #fdd'>\\n\"+\n     \"<p>\\n\"+\n     \"BokehJS does not appear to have successfully loaded. If loading BokehJS from CDN, this \\n\"+\n     \"may be due to a slow or bad network connection. Possible fixes:\\n\"+\n     \"</p>\\n\"+\n     \"<ul>\\n\"+\n     \"<li>re-rerun `output_notebook()` to attempt to load from CDN again, or</li>\\n\"+\n     \"<li>use INLINE resources instead, as so:</li>\\n\"+\n     \"</ul>\\n\"+\n     \"<code>\\n\"+\n     \"from bokeh.resources import INLINE\\n\"+\n     \"output_notebook(resources=INLINE)\\n\"+\n     \"</code>\\n\"+\n     \"</div>\"}};\n\n  function display_loaded() {\n    const el = document.getElementById(\"1002\");\n    if (el != null) {\n      el.textContent = \"BokehJS is loading...\";\n    }\n    if (root.Bokeh !== undefined) {\n      if (el != null) {\n        el.textContent = \"BokehJS \" + root.Bokeh.version + \" successfully loaded.\";\n      }\n    } else if (Date.now() < root._bokeh_timeout) {\n      setTimeout(display_loaded, 100)\n    }\n  }\n\n\n  function run_callbacks() {\n    try {\n      root._bokeh_onload_callbacks.forEach(function(callback) {\n        if (callback != null)\n          callback();\n      });\n    } finally {\n      delete root._bokeh_onload_callbacks\n    }\n    console.debug(\"Bokeh: all callbacks have finished\");\n  }\n\n  function load_libs(css_urls, js_urls, callback) {\n    if (css_urls == null) css_urls = [];\n    if (js_urls == null) js_urls = [];\n\n    root._bokeh_onload_callbacks.push(callback);\n    if (root._bokeh_is_loading > 0) {\n      console.debug(\"Bokeh: BokehJS is being loaded, scheduling callback at\", now());\n      return null;\n    }\n    if (js_urls == null || js_urls.length === 0) {\n      run_callbacks();\n      return null;\n    }\n    console.debug(\"Bokeh: BokehJS not loaded, scheduling load and callback at\", now());\n    root._bokeh_is_loading = css_urls.length + js_urls.length;\n\n    function on_load() {\n      root._bokeh_is_loading--;\n      if (root._bokeh_is_loading === 0) {\n        console.debug(\"Bokeh: all BokehJS libraries/stylesheets loaded\");\n        run_callbacks()\n      }\n    }\n\n    function on_error(url) {\n      console.error(\"failed to load \" + url);\n    }\n\n    for (let i = 0; i < css_urls.length; i++) {\n      const url = css_urls[i];\n      const element = document.createElement(\"link\");\n      element.onload = on_load;\n      element.onerror = on_error.bind(null, url);\n      element.rel = \"stylesheet\";\n      element.type = \"text/css\";\n      element.href = url;\n      console.debug(\"Bokeh: injecting link tag for BokehJS stylesheet: \", url);\n      document.body.appendChild(element);\n    }\n\n    for (let i = 0; i < js_urls.length; i++) {\n      const url = js_urls[i];\n      const element = document.createElement('script');\n      element.onload = on_load;\n      element.onerror = on_error.bind(null, url);\n      element.async = false;\n      element.src = url;\n      console.debug(\"Bokeh: injecting script tag for BokehJS library: \", url);\n      document.head.appendChild(element);\n    }\n  };\n\n  function inject_raw_css(css) {\n    const element = document.createElement(\"style\");\n    element.appendChild(document.createTextNode(css));\n    document.body.appendChild(element);\n  }\n\n  \n  const js_urls = [\"https://cdn.bokeh.org/bokeh/release/bokeh-2.4.1.min.js\", \"https://cdn.bokeh.org/bokeh/release/bokeh-gl-2.4.1.min.js\", \"https://cdn.bokeh.org/bokeh/release/bokeh-widgets-2.4.1.min.js\", \"https://cdn.bokeh.org/bokeh/release/bokeh-tables-2.4.1.min.js\", \"https://cdn.bokeh.org/bokeh/release/bokeh-mathjax-2.4.1.min.js\"];\n  const css_urls = [];\n  \n\n  const inline_js = [\n    function(Bokeh) {\n      Bokeh.set_log_level(\"info\");\n    },\n    function(Bokeh) {\n    \n    \n    }\n  ];\n\n  function run_inline_js() {\n    \n    if (root.Bokeh !== undefined || force === true) {\n      \n    for (let i = 0; i < inline_js.length; i++) {\n      inline_js[i].call(root, root.Bokeh);\n    }\n    if (force === true) {\n        display_loaded();\n      }} else if (Date.now() < root._bokeh_timeout) {\n      setTimeout(run_inline_js, 100);\n    } else if (!root._bokeh_failed_load) {\n      console.log(\"Bokeh: BokehJS failed to load within specified timeout.\");\n      root._bokeh_failed_load = true;\n    } else if (force !== true) {\n      const cell = $(document.getElementById(\"1002\")).parents('.cell').data().cell;\n      cell.output_area.append_execute_result(NB_LOAD_WARNING)\n    }\n\n  }\n\n  if (root._bokeh_is_loading === 0) {\n    console.debug(\"Bokeh: BokehJS loaded, going straight to plotting\");\n    run_inline_js();\n  } else {\n    load_libs(css_urls, js_urls, function() {\n      console.debug(\"Bokeh: BokehJS plotting callback run at\", now());\n      run_inline_js();\n    });\n  }\n}(window));"
     },
     "metadata": {},
     "output_type": "display_data"
    },
    {
     "ename": "URLError",
     "evalue": "<urlopen error [WinError 10060] A connection attempt failed because the connected party did not properly respond after a period of time, or established connection failed because connected host has failed to respond>",
     "output_type": "error",
     "traceback": [
      "\u001b[1;31m---------------------------------------------------------------------------\u001b[0m",
      "\u001b[1;31mTimeoutError\u001b[0m                              Traceback (most recent call last)",
      "\u001b[1;32m~\\Anaconda3\\lib\\urllib\\request.py\u001b[0m in \u001b[0;36mdo_open\u001b[1;34m(self, http_class, req, **http_conn_args)\u001b[0m\n\u001b[0;32m   1345\u001b[0m             \u001b[1;32mtry\u001b[0m\u001b[1;33m:\u001b[0m\u001b[1;33m\u001b[0m\u001b[1;33m\u001b[0m\u001b[0m\n\u001b[1;32m-> 1346\u001b[1;33m                 h.request(req.get_method(), req.selector, req.data, headers,\n\u001b[0m\u001b[0;32m   1347\u001b[0m                           encode_chunked=req.has_header('Transfer-encoding'))\n",
      "\u001b[1;32m~\\Anaconda3\\lib\\http\\client.py\u001b[0m in \u001b[0;36mrequest\u001b[1;34m(self, method, url, body, headers, encode_chunked)\u001b[0m\n\u001b[0;32m   1278\u001b[0m         \u001b[1;34m\"\"\"Send a complete request to the server.\"\"\"\u001b[0m\u001b[1;33m\u001b[0m\u001b[1;33m\u001b[0m\u001b[0m\n\u001b[1;32m-> 1279\u001b[1;33m         \u001b[0mself\u001b[0m\u001b[1;33m.\u001b[0m\u001b[0m_send_request\u001b[0m\u001b[1;33m(\u001b[0m\u001b[0mmethod\u001b[0m\u001b[1;33m,\u001b[0m \u001b[0murl\u001b[0m\u001b[1;33m,\u001b[0m \u001b[0mbody\u001b[0m\u001b[1;33m,\u001b[0m \u001b[0mheaders\u001b[0m\u001b[1;33m,\u001b[0m \u001b[0mencode_chunked\u001b[0m\u001b[1;33m)\u001b[0m\u001b[1;33m\u001b[0m\u001b[1;33m\u001b[0m\u001b[0m\n\u001b[0m\u001b[0;32m   1280\u001b[0m \u001b[1;33m\u001b[0m\u001b[0m\n",
      "\u001b[1;32m~\\Anaconda3\\lib\\http\\client.py\u001b[0m in \u001b[0;36m_send_request\u001b[1;34m(self, method, url, body, headers, encode_chunked)\u001b[0m\n\u001b[0;32m   1324\u001b[0m             \u001b[0mbody\u001b[0m \u001b[1;33m=\u001b[0m \u001b[0m_encode\u001b[0m\u001b[1;33m(\u001b[0m\u001b[0mbody\u001b[0m\u001b[1;33m,\u001b[0m \u001b[1;34m'body'\u001b[0m\u001b[1;33m)\u001b[0m\u001b[1;33m\u001b[0m\u001b[1;33m\u001b[0m\u001b[0m\n\u001b[1;32m-> 1325\u001b[1;33m         \u001b[0mself\u001b[0m\u001b[1;33m.\u001b[0m\u001b[0mendheaders\u001b[0m\u001b[1;33m(\u001b[0m\u001b[0mbody\u001b[0m\u001b[1;33m,\u001b[0m \u001b[0mencode_chunked\u001b[0m\u001b[1;33m=\u001b[0m\u001b[0mencode_chunked\u001b[0m\u001b[1;33m)\u001b[0m\u001b[1;33m\u001b[0m\u001b[1;33m\u001b[0m\u001b[0m\n\u001b[0m\u001b[0;32m   1326\u001b[0m \u001b[1;33m\u001b[0m\u001b[0m\n",
      "\u001b[1;32m~\\Anaconda3\\lib\\http\\client.py\u001b[0m in \u001b[0;36mendheaders\u001b[1;34m(self, message_body, encode_chunked)\u001b[0m\n\u001b[0;32m   1273\u001b[0m             \u001b[1;32mraise\u001b[0m \u001b[0mCannotSendHeader\u001b[0m\u001b[1;33m(\u001b[0m\u001b[1;33m)\u001b[0m\u001b[1;33m\u001b[0m\u001b[1;33m\u001b[0m\u001b[0m\n\u001b[1;32m-> 1274\u001b[1;33m         \u001b[0mself\u001b[0m\u001b[1;33m.\u001b[0m\u001b[0m_send_output\u001b[0m\u001b[1;33m(\u001b[0m\u001b[0mmessage_body\u001b[0m\u001b[1;33m,\u001b[0m \u001b[0mencode_chunked\u001b[0m\u001b[1;33m=\u001b[0m\u001b[0mencode_chunked\u001b[0m\u001b[1;33m)\u001b[0m\u001b[1;33m\u001b[0m\u001b[1;33m\u001b[0m\u001b[0m\n\u001b[0m\u001b[0;32m   1275\u001b[0m \u001b[1;33m\u001b[0m\u001b[0m\n",
      "\u001b[1;32m~\\Anaconda3\\lib\\http\\client.py\u001b[0m in \u001b[0;36m_send_output\u001b[1;34m(self, message_body, encode_chunked)\u001b[0m\n\u001b[0;32m   1033\u001b[0m         \u001b[1;32mdel\u001b[0m \u001b[0mself\u001b[0m\u001b[1;33m.\u001b[0m\u001b[0m_buffer\u001b[0m\u001b[1;33m[\u001b[0m\u001b[1;33m:\u001b[0m\u001b[1;33m]\u001b[0m\u001b[1;33m\u001b[0m\u001b[1;33m\u001b[0m\u001b[0m\n\u001b[1;32m-> 1034\u001b[1;33m         \u001b[0mself\u001b[0m\u001b[1;33m.\u001b[0m\u001b[0msend\u001b[0m\u001b[1;33m(\u001b[0m\u001b[0mmsg\u001b[0m\u001b[1;33m)\u001b[0m\u001b[1;33m\u001b[0m\u001b[1;33m\u001b[0m\u001b[0m\n\u001b[0m\u001b[0;32m   1035\u001b[0m \u001b[1;33m\u001b[0m\u001b[0m\n",
      "\u001b[1;32m~\\Anaconda3\\lib\\http\\client.py\u001b[0m in \u001b[0;36msend\u001b[1;34m(self, data)\u001b[0m\n\u001b[0;32m    973\u001b[0m             \u001b[1;32mif\u001b[0m \u001b[0mself\u001b[0m\u001b[1;33m.\u001b[0m\u001b[0mauto_open\u001b[0m\u001b[1;33m:\u001b[0m\u001b[1;33m\u001b[0m\u001b[1;33m\u001b[0m\u001b[0m\n\u001b[1;32m--> 974\u001b[1;33m                 \u001b[0mself\u001b[0m\u001b[1;33m.\u001b[0m\u001b[0mconnect\u001b[0m\u001b[1;33m(\u001b[0m\u001b[1;33m)\u001b[0m\u001b[1;33m\u001b[0m\u001b[1;33m\u001b[0m\u001b[0m\n\u001b[0m\u001b[0;32m    975\u001b[0m             \u001b[1;32melse\u001b[0m\u001b[1;33m:\u001b[0m\u001b[1;33m\u001b[0m\u001b[1;33m\u001b[0m\u001b[0m\n",
      "\u001b[1;32m~\\Anaconda3\\lib\\http\\client.py\u001b[0m in \u001b[0;36mconnect\u001b[1;34m(self)\u001b[0m\n\u001b[0;32m   1440\u001b[0m \u001b[1;33m\u001b[0m\u001b[0m\n\u001b[1;32m-> 1441\u001b[1;33m             \u001b[0msuper\u001b[0m\u001b[1;33m(\u001b[0m\u001b[1;33m)\u001b[0m\u001b[1;33m.\u001b[0m\u001b[0mconnect\u001b[0m\u001b[1;33m(\u001b[0m\u001b[1;33m)\u001b[0m\u001b[1;33m\u001b[0m\u001b[1;33m\u001b[0m\u001b[0m\n\u001b[0m\u001b[0;32m   1442\u001b[0m \u001b[1;33m\u001b[0m\u001b[0m\n",
      "\u001b[1;32m~\\Anaconda3\\lib\\http\\client.py\u001b[0m in \u001b[0;36mconnect\u001b[1;34m(self)\u001b[0m\n\u001b[0;32m    944\u001b[0m         \u001b[1;34m\"\"\"Connect to the host and port specified in __init__.\"\"\"\u001b[0m\u001b[1;33m\u001b[0m\u001b[1;33m\u001b[0m\u001b[0m\n\u001b[1;32m--> 945\u001b[1;33m         self.sock = self._create_connection(\n\u001b[0m\u001b[0;32m    946\u001b[0m             (self.host,self.port), self.timeout, self.source_address)\n",
      "\u001b[1;32m~\\Anaconda3\\lib\\socket.py\u001b[0m in \u001b[0;36mcreate_connection\u001b[1;34m(address, timeout, source_address)\u001b[0m\n\u001b[0;32m    843\u001b[0m         \u001b[1;32mtry\u001b[0m\u001b[1;33m:\u001b[0m\u001b[1;33m\u001b[0m\u001b[1;33m\u001b[0m\u001b[0m\n\u001b[1;32m--> 844\u001b[1;33m             \u001b[1;32mraise\u001b[0m \u001b[0merr\u001b[0m\u001b[1;33m\u001b[0m\u001b[1;33m\u001b[0m\u001b[0m\n\u001b[0m\u001b[0;32m    845\u001b[0m         \u001b[1;32mfinally\u001b[0m\u001b[1;33m:\u001b[0m\u001b[1;33m\u001b[0m\u001b[1;33m\u001b[0m\u001b[0m\n",
      "\u001b[1;32m~\\Anaconda3\\lib\\socket.py\u001b[0m in \u001b[0;36mcreate_connection\u001b[1;34m(address, timeout, source_address)\u001b[0m\n\u001b[0;32m    831\u001b[0m                 \u001b[0msock\u001b[0m\u001b[1;33m.\u001b[0m\u001b[0mbind\u001b[0m\u001b[1;33m(\u001b[0m\u001b[0msource_address\u001b[0m\u001b[1;33m)\u001b[0m\u001b[1;33m\u001b[0m\u001b[1;33m\u001b[0m\u001b[0m\n\u001b[1;32m--> 832\u001b[1;33m             \u001b[0msock\u001b[0m\u001b[1;33m.\u001b[0m\u001b[0mconnect\u001b[0m\u001b[1;33m(\u001b[0m\u001b[0msa\u001b[0m\u001b[1;33m)\u001b[0m\u001b[1;33m\u001b[0m\u001b[1;33m\u001b[0m\u001b[0m\n\u001b[0m\u001b[0;32m    833\u001b[0m             \u001b[1;31m# Break explicitly a reference cycle\u001b[0m\u001b[1;33m\u001b[0m\u001b[1;33m\u001b[0m\u001b[0m\n",
      "\u001b[1;31mTimeoutError\u001b[0m: [WinError 10060] A connection attempt failed because the connected party did not properly respond after a period of time, or established connection failed because connected host has failed to respond",
      "\nDuring handling of the above exception, another exception occurred:\n",
      "\u001b[1;31mURLError\u001b[0m                                  Traceback (most recent call last)",
      "\u001b[1;32m~\\AppData\\Local\\Temp/ipykernel_18140/2319475209.py\u001b[0m in \u001b[0;36m<module>\u001b[1;34m\u001b[0m\n\u001b[1;32m----> 1\u001b[1;33m \u001b[0mmap_plot\u001b[0m\u001b[1;33m(\u001b[0m\u001b[0mcity_grp\u001b[0m\u001b[1;33m)\u001b[0m\u001b[1;33m\u001b[0m\u001b[1;33m\u001b[0m\u001b[0m\n\u001b[0m",
      "\u001b[1;32m~\\AppData\\Local\\Temp/ipykernel_18140/2323093253.py\u001b[0m in \u001b[0;36mmap_plot\u001b[1;34m(df)\u001b[0m\n\u001b[0;32m      8\u001b[0m   \u001b[1;32mimport\u001b[0m \u001b[0mplotly\u001b[0m\u001b[1;33m.\u001b[0m\u001b[0mgraph_objects\u001b[0m \u001b[1;32mas\u001b[0m \u001b[0mgo\u001b[0m\u001b[1;33m\u001b[0m\u001b[1;33m\u001b[0m\u001b[0m\n\u001b[0;32m      9\u001b[0m \u001b[1;33m\u001b[0m\u001b[0m\n\u001b[1;32m---> 10\u001b[1;33m   \u001b[0mnomi\u001b[0m \u001b[1;33m=\u001b[0m \u001b[0mpgeocode\u001b[0m\u001b[1;33m.\u001b[0m\u001b[0mNominatim\u001b[0m\u001b[1;33m(\u001b[0m\u001b[1;34m'us'\u001b[0m\u001b[1;33m)\u001b[0m\u001b[1;33m\u001b[0m\u001b[1;33m\u001b[0m\u001b[0m\n\u001b[0m\u001b[0;32m     11\u001b[0m   \u001b[0medf\u001b[0m\u001b[1;33m=\u001b[0m\u001b[0mdf\u001b[0m\u001b[1;33m.\u001b[0m\u001b[0mreset_index\u001b[0m\u001b[1;33m(\u001b[0m\u001b[1;33m)\u001b[0m\u001b[1;33m\u001b[0m\u001b[1;33m\u001b[0m\u001b[0m\n\u001b[0;32m     12\u001b[0m \u001b[1;33m\u001b[0m\u001b[0m\n",
      "\u001b[1;32m~\\Anaconda3\\lib\\site-packages\\pgeocode.py\u001b[0m in \u001b[0;36m__init__\u001b[1;34m(self, country, unique)\u001b[0m\n\u001b[0;32m    207\u001b[0m             )\n\u001b[0;32m    208\u001b[0m         \u001b[0mself\u001b[0m\u001b[1;33m.\u001b[0m\u001b[0mcountry\u001b[0m \u001b[1;33m=\u001b[0m \u001b[0mcountry\u001b[0m\u001b[1;33m\u001b[0m\u001b[1;33m\u001b[0m\u001b[0m\n\u001b[1;32m--> 209\u001b[1;33m         \u001b[0mself\u001b[0m\u001b[1;33m.\u001b[0m\u001b[0m_data_path\u001b[0m\u001b[1;33m,\u001b[0m \u001b[0mself\u001b[0m\u001b[1;33m.\u001b[0m\u001b[0m_data\u001b[0m \u001b[1;33m=\u001b[0m \u001b[0mself\u001b[0m\u001b[1;33m.\u001b[0m\u001b[0m_get_data\u001b[0m\u001b[1;33m(\u001b[0m\u001b[0mcountry\u001b[0m\u001b[1;33m)\u001b[0m\u001b[1;33m\u001b[0m\u001b[1;33m\u001b[0m\u001b[0m\n\u001b[0m\u001b[0;32m    210\u001b[0m         \u001b[1;32mif\u001b[0m \u001b[0munique\u001b[0m\u001b[1;33m:\u001b[0m\u001b[1;33m\u001b[0m\u001b[1;33m\u001b[0m\u001b[0m\n\u001b[0;32m    211\u001b[0m             \u001b[0mself\u001b[0m\u001b[1;33m.\u001b[0m\u001b[0m_data_frame\u001b[0m \u001b[1;33m=\u001b[0m \u001b[0mself\u001b[0m\u001b[1;33m.\u001b[0m\u001b[0m_index_postal_codes\u001b[0m\u001b[1;33m(\u001b[0m\u001b[1;33m)\u001b[0m\u001b[1;33m\u001b[0m\u001b[1;33m\u001b[0m\u001b[0m\n",
      "\u001b[1;32m~\\Anaconda3\\lib\\site-packages\\pgeocode.py\u001b[0m in \u001b[0;36m_get_data\u001b[1;34m(country)\u001b[0m\n\u001b[0;32m    225\u001b[0m                 \u001b[0mval\u001b[0m\u001b[1;33m.\u001b[0m\u001b[0mformat\u001b[0m\u001b[1;33m(\u001b[0m\u001b[0mcountry\u001b[0m\u001b[1;33m=\u001b[0m\u001b[0mcountry\u001b[0m\u001b[1;33m)\u001b[0m \u001b[1;32mfor\u001b[0m \u001b[0mval\u001b[0m \u001b[1;32min\u001b[0m \u001b[0mDOWNLOAD_URL\u001b[0m\u001b[1;33m\u001b[0m\u001b[1;33m\u001b[0m\u001b[0m\n\u001b[0;32m    226\u001b[0m             ]\n\u001b[1;32m--> 227\u001b[1;33m             \u001b[1;32mwith\u001b[0m \u001b[0m_open_extract_cycle_url\u001b[0m\u001b[1;33m(\u001b[0m\u001b[0mdownload_urls\u001b[0m\u001b[1;33m,\u001b[0m \u001b[0mcountry\u001b[0m\u001b[1;33m)\u001b[0m \u001b[1;32mas\u001b[0m \u001b[0mfh\u001b[0m\u001b[1;33m:\u001b[0m\u001b[1;33m\u001b[0m\u001b[1;33m\u001b[0m\u001b[0m\n\u001b[0m\u001b[0;32m    228\u001b[0m                 data = pd.read_csv(\n\u001b[0;32m    229\u001b[0m                     \u001b[0mfh\u001b[0m\u001b[1;33m,\u001b[0m\u001b[1;33m\u001b[0m\u001b[1;33m\u001b[0m\u001b[0m\n",
      "\u001b[1;32m~\\Anaconda3\\lib\\contextlib.py\u001b[0m in \u001b[0;36m__enter__\u001b[1;34m(self)\u001b[0m\n\u001b[0;32m    117\u001b[0m         \u001b[1;32mdel\u001b[0m \u001b[0mself\u001b[0m\u001b[1;33m.\u001b[0m\u001b[0margs\u001b[0m\u001b[1;33m,\u001b[0m \u001b[0mself\u001b[0m\u001b[1;33m.\u001b[0m\u001b[0mkwds\u001b[0m\u001b[1;33m,\u001b[0m \u001b[0mself\u001b[0m\u001b[1;33m.\u001b[0m\u001b[0mfunc\u001b[0m\u001b[1;33m\u001b[0m\u001b[1;33m\u001b[0m\u001b[0m\n\u001b[0;32m    118\u001b[0m         \u001b[1;32mtry\u001b[0m\u001b[1;33m:\u001b[0m\u001b[1;33m\u001b[0m\u001b[1;33m\u001b[0m\u001b[0m\n\u001b[1;32m--> 119\u001b[1;33m             \u001b[1;32mreturn\u001b[0m \u001b[0mnext\u001b[0m\u001b[1;33m(\u001b[0m\u001b[0mself\u001b[0m\u001b[1;33m.\u001b[0m\u001b[0mgen\u001b[0m\u001b[1;33m)\u001b[0m\u001b[1;33m\u001b[0m\u001b[1;33m\u001b[0m\u001b[0m\n\u001b[0m\u001b[0;32m    120\u001b[0m         \u001b[1;32mexcept\u001b[0m \u001b[0mStopIteration\u001b[0m\u001b[1;33m:\u001b[0m\u001b[1;33m\u001b[0m\u001b[1;33m\u001b[0m\u001b[0m\n\u001b[0;32m    121\u001b[0m             \u001b[1;32mraise\u001b[0m \u001b[0mRuntimeError\u001b[0m\u001b[1;33m(\u001b[0m\u001b[1;34m\"generator didn't yield\"\u001b[0m\u001b[1;33m)\u001b[0m \u001b[1;32mfrom\u001b[0m \u001b[1;32mNone\u001b[0m\u001b[1;33m\u001b[0m\u001b[1;33m\u001b[0m\u001b[0m\n",
      "\u001b[1;32m~\\Anaconda3\\lib\\site-packages\\pgeocode.py\u001b[0m in \u001b[0;36m_open_extract_cycle_url\u001b[1;34m(urls, country)\u001b[0m\n\u001b[0;32m    161\u001b[0m     \u001b[1;32mfor\u001b[0m \u001b[0midx\u001b[0m\u001b[1;33m,\u001b[0m \u001b[0mval\u001b[0m \u001b[1;32min\u001b[0m \u001b[0menumerate\u001b[0m\u001b[1;33m(\u001b[0m\u001b[0murls\u001b[0m\u001b[1;33m)\u001b[0m\u001b[1;33m:\u001b[0m\u001b[1;33m\u001b[0m\u001b[1;33m\u001b[0m\u001b[0m\n\u001b[0;32m    162\u001b[0m         \u001b[1;32mtry\u001b[0m\u001b[1;33m:\u001b[0m\u001b[1;33m\u001b[0m\u001b[1;33m\u001b[0m\u001b[0m\n\u001b[1;32m--> 163\u001b[1;33m             \u001b[1;32mwith\u001b[0m \u001b[0m_open_extract_url\u001b[0m\u001b[1;33m(\u001b[0m\u001b[0mval\u001b[0m\u001b[1;33m,\u001b[0m \u001b[0mcountry\u001b[0m\u001b[1;33m)\u001b[0m \u001b[1;32mas\u001b[0m \u001b[0mfh\u001b[0m\u001b[1;33m:\u001b[0m\u001b[1;33m\u001b[0m\u001b[1;33m\u001b[0m\u001b[0m\n\u001b[0m\u001b[0;32m    164\u001b[0m                 \u001b[1;32myield\u001b[0m \u001b[0mfh\u001b[0m\u001b[1;33m\u001b[0m\u001b[1;33m\u001b[0m\u001b[0m\n\u001b[0;32m    165\u001b[0m             \u001b[1;31m# Found a working URL, exit the loop.\u001b[0m\u001b[1;33m\u001b[0m\u001b[1;33m\u001b[0m\u001b[0m\n",
      "\u001b[1;32m~\\Anaconda3\\lib\\contextlib.py\u001b[0m in \u001b[0;36m__enter__\u001b[1;34m(self)\u001b[0m\n\u001b[0;32m    117\u001b[0m         \u001b[1;32mdel\u001b[0m \u001b[0mself\u001b[0m\u001b[1;33m.\u001b[0m\u001b[0margs\u001b[0m\u001b[1;33m,\u001b[0m \u001b[0mself\u001b[0m\u001b[1;33m.\u001b[0m\u001b[0mkwds\u001b[0m\u001b[1;33m,\u001b[0m \u001b[0mself\u001b[0m\u001b[1;33m.\u001b[0m\u001b[0mfunc\u001b[0m\u001b[1;33m\u001b[0m\u001b[1;33m\u001b[0m\u001b[0m\n\u001b[0;32m    118\u001b[0m         \u001b[1;32mtry\u001b[0m\u001b[1;33m:\u001b[0m\u001b[1;33m\u001b[0m\u001b[1;33m\u001b[0m\u001b[0m\n\u001b[1;32m--> 119\u001b[1;33m             \u001b[1;32mreturn\u001b[0m \u001b[0mnext\u001b[0m\u001b[1;33m(\u001b[0m\u001b[0mself\u001b[0m\u001b[1;33m.\u001b[0m\u001b[0mgen\u001b[0m\u001b[1;33m)\u001b[0m\u001b[1;33m\u001b[0m\u001b[1;33m\u001b[0m\u001b[0m\n\u001b[0m\u001b[0;32m    120\u001b[0m         \u001b[1;32mexcept\u001b[0m \u001b[0mStopIteration\u001b[0m\u001b[1;33m:\u001b[0m\u001b[1;33m\u001b[0m\u001b[1;33m\u001b[0m\u001b[0m\n\u001b[0;32m    121\u001b[0m             \u001b[1;32mraise\u001b[0m \u001b[0mRuntimeError\u001b[0m\u001b[1;33m(\u001b[0m\u001b[1;34m\"generator didn't yield\"\u001b[0m\u001b[1;33m)\u001b[0m \u001b[1;32mfrom\u001b[0m \u001b[1;32mNone\u001b[0m\u001b[1;33m\u001b[0m\u001b[1;33m\u001b[0m\u001b[0m\n",
      "\u001b[1;32m~\\Anaconda3\\lib\\site-packages\\pgeocode.py\u001b[0m in \u001b[0;36m_open_extract_url\u001b[1;34m(url, country)\u001b[0m\n\u001b[0;32m    138\u001b[0m     \u001b[0mReturns\u001b[0m \u001b[0mthe\u001b[0m \u001b[0mopened\u001b[0m \u001b[0mfile\u001b[0m \u001b[0mobject\u001b[0m\u001b[1;33m.\u001b[0m\u001b[1;33m\u001b[0m\u001b[1;33m\u001b[0m\u001b[0m\n\u001b[0;32m    139\u001b[0m     \"\"\"\n\u001b[1;32m--> 140\u001b[1;33m     \u001b[1;32mwith\u001b[0m \u001b[0murllib\u001b[0m\u001b[1;33m.\u001b[0m\u001b[0mrequest\u001b[0m\u001b[1;33m.\u001b[0m\u001b[0murlopen\u001b[0m\u001b[1;33m(\u001b[0m\u001b[0murl\u001b[0m\u001b[1;33m)\u001b[0m \u001b[1;32mas\u001b[0m \u001b[0mres\u001b[0m\u001b[1;33m:\u001b[0m\u001b[1;33m\u001b[0m\u001b[1;33m\u001b[0m\u001b[0m\n\u001b[0m\u001b[0;32m    141\u001b[0m         \u001b[1;32mwith\u001b[0m \u001b[0mBytesIO\u001b[0m\u001b[1;33m(\u001b[0m\u001b[0mres\u001b[0m\u001b[1;33m.\u001b[0m\u001b[0mread\u001b[0m\u001b[1;33m(\u001b[0m\u001b[1;33m)\u001b[0m\u001b[1;33m)\u001b[0m \u001b[1;32mas\u001b[0m \u001b[0mreader\u001b[0m\u001b[1;33m:\u001b[0m\u001b[1;33m\u001b[0m\u001b[1;33m\u001b[0m\u001b[0m\n\u001b[0;32m    142\u001b[0m             \u001b[1;32mif\u001b[0m \u001b[0murl\u001b[0m\u001b[1;33m.\u001b[0m\u001b[0mendswith\u001b[0m\u001b[1;33m(\u001b[0m\u001b[1;34m\".zip\"\u001b[0m\u001b[1;33m)\u001b[0m\u001b[1;33m:\u001b[0m\u001b[1;33m\u001b[0m\u001b[1;33m\u001b[0m\u001b[0m\n",
      "\u001b[1;32m~\\Anaconda3\\lib\\urllib\\request.py\u001b[0m in \u001b[0;36murlopen\u001b[1;34m(url, data, timeout, cafile, capath, cadefault, context)\u001b[0m\n\u001b[0;32m    212\u001b[0m     \u001b[1;32melse\u001b[0m\u001b[1;33m:\u001b[0m\u001b[1;33m\u001b[0m\u001b[1;33m\u001b[0m\u001b[0m\n\u001b[0;32m    213\u001b[0m         \u001b[0mopener\u001b[0m \u001b[1;33m=\u001b[0m \u001b[0m_opener\u001b[0m\u001b[1;33m\u001b[0m\u001b[1;33m\u001b[0m\u001b[0m\n\u001b[1;32m--> 214\u001b[1;33m     \u001b[1;32mreturn\u001b[0m \u001b[0mopener\u001b[0m\u001b[1;33m.\u001b[0m\u001b[0mopen\u001b[0m\u001b[1;33m(\u001b[0m\u001b[0murl\u001b[0m\u001b[1;33m,\u001b[0m \u001b[0mdata\u001b[0m\u001b[1;33m,\u001b[0m \u001b[0mtimeout\u001b[0m\u001b[1;33m)\u001b[0m\u001b[1;33m\u001b[0m\u001b[1;33m\u001b[0m\u001b[0m\n\u001b[0m\u001b[0;32m    215\u001b[0m \u001b[1;33m\u001b[0m\u001b[0m\n\u001b[0;32m    216\u001b[0m \u001b[1;32mdef\u001b[0m \u001b[0minstall_opener\u001b[0m\u001b[1;33m(\u001b[0m\u001b[0mopener\u001b[0m\u001b[1;33m)\u001b[0m\u001b[1;33m:\u001b[0m\u001b[1;33m\u001b[0m\u001b[1;33m\u001b[0m\u001b[0m\n",
      "\u001b[1;32m~\\Anaconda3\\lib\\urllib\\request.py\u001b[0m in \u001b[0;36mopen\u001b[1;34m(self, fullurl, data, timeout)\u001b[0m\n\u001b[0;32m    515\u001b[0m \u001b[1;33m\u001b[0m\u001b[0m\n\u001b[0;32m    516\u001b[0m         \u001b[0msys\u001b[0m\u001b[1;33m.\u001b[0m\u001b[0maudit\u001b[0m\u001b[1;33m(\u001b[0m\u001b[1;34m'urllib.Request'\u001b[0m\u001b[1;33m,\u001b[0m \u001b[0mreq\u001b[0m\u001b[1;33m.\u001b[0m\u001b[0mfull_url\u001b[0m\u001b[1;33m,\u001b[0m \u001b[0mreq\u001b[0m\u001b[1;33m.\u001b[0m\u001b[0mdata\u001b[0m\u001b[1;33m,\u001b[0m \u001b[0mreq\u001b[0m\u001b[1;33m.\u001b[0m\u001b[0mheaders\u001b[0m\u001b[1;33m,\u001b[0m \u001b[0mreq\u001b[0m\u001b[1;33m.\u001b[0m\u001b[0mget_method\u001b[0m\u001b[1;33m(\u001b[0m\u001b[1;33m)\u001b[0m\u001b[1;33m)\u001b[0m\u001b[1;33m\u001b[0m\u001b[1;33m\u001b[0m\u001b[0m\n\u001b[1;32m--> 517\u001b[1;33m         \u001b[0mresponse\u001b[0m \u001b[1;33m=\u001b[0m \u001b[0mself\u001b[0m\u001b[1;33m.\u001b[0m\u001b[0m_open\u001b[0m\u001b[1;33m(\u001b[0m\u001b[0mreq\u001b[0m\u001b[1;33m,\u001b[0m \u001b[0mdata\u001b[0m\u001b[1;33m)\u001b[0m\u001b[1;33m\u001b[0m\u001b[1;33m\u001b[0m\u001b[0m\n\u001b[0m\u001b[0;32m    518\u001b[0m \u001b[1;33m\u001b[0m\u001b[0m\n\u001b[0;32m    519\u001b[0m         \u001b[1;31m# post-process response\u001b[0m\u001b[1;33m\u001b[0m\u001b[1;33m\u001b[0m\u001b[0m\n",
      "\u001b[1;32m~\\Anaconda3\\lib\\urllib\\request.py\u001b[0m in \u001b[0;36m_open\u001b[1;34m(self, req, data)\u001b[0m\n\u001b[0;32m    532\u001b[0m \u001b[1;33m\u001b[0m\u001b[0m\n\u001b[0;32m    533\u001b[0m         \u001b[0mprotocol\u001b[0m \u001b[1;33m=\u001b[0m \u001b[0mreq\u001b[0m\u001b[1;33m.\u001b[0m\u001b[0mtype\u001b[0m\u001b[1;33m\u001b[0m\u001b[1;33m\u001b[0m\u001b[0m\n\u001b[1;32m--> 534\u001b[1;33m         result = self._call_chain(self.handle_open, protocol, protocol +\n\u001b[0m\u001b[0;32m    535\u001b[0m                                   '_open', req)\n\u001b[0;32m    536\u001b[0m         \u001b[1;32mif\u001b[0m \u001b[0mresult\u001b[0m\u001b[1;33m:\u001b[0m\u001b[1;33m\u001b[0m\u001b[1;33m\u001b[0m\u001b[0m\n",
      "\u001b[1;32m~\\Anaconda3\\lib\\urllib\\request.py\u001b[0m in \u001b[0;36m_call_chain\u001b[1;34m(self, chain, kind, meth_name, *args)\u001b[0m\n\u001b[0;32m    492\u001b[0m         \u001b[1;32mfor\u001b[0m \u001b[0mhandler\u001b[0m \u001b[1;32min\u001b[0m \u001b[0mhandlers\u001b[0m\u001b[1;33m:\u001b[0m\u001b[1;33m\u001b[0m\u001b[1;33m\u001b[0m\u001b[0m\n\u001b[0;32m    493\u001b[0m             \u001b[0mfunc\u001b[0m \u001b[1;33m=\u001b[0m \u001b[0mgetattr\u001b[0m\u001b[1;33m(\u001b[0m\u001b[0mhandler\u001b[0m\u001b[1;33m,\u001b[0m \u001b[0mmeth_name\u001b[0m\u001b[1;33m)\u001b[0m\u001b[1;33m\u001b[0m\u001b[1;33m\u001b[0m\u001b[0m\n\u001b[1;32m--> 494\u001b[1;33m             \u001b[0mresult\u001b[0m \u001b[1;33m=\u001b[0m \u001b[0mfunc\u001b[0m\u001b[1;33m(\u001b[0m\u001b[1;33m*\u001b[0m\u001b[0margs\u001b[0m\u001b[1;33m)\u001b[0m\u001b[1;33m\u001b[0m\u001b[1;33m\u001b[0m\u001b[0m\n\u001b[0m\u001b[0;32m    495\u001b[0m             \u001b[1;32mif\u001b[0m \u001b[0mresult\u001b[0m \u001b[1;32mis\u001b[0m \u001b[1;32mnot\u001b[0m \u001b[1;32mNone\u001b[0m\u001b[1;33m:\u001b[0m\u001b[1;33m\u001b[0m\u001b[1;33m\u001b[0m\u001b[0m\n\u001b[0;32m    496\u001b[0m                 \u001b[1;32mreturn\u001b[0m \u001b[0mresult\u001b[0m\u001b[1;33m\u001b[0m\u001b[1;33m\u001b[0m\u001b[0m\n",
      "\u001b[1;32m~\\Anaconda3\\lib\\urllib\\request.py\u001b[0m in \u001b[0;36mhttps_open\u001b[1;34m(self, req)\u001b[0m\n\u001b[0;32m   1387\u001b[0m \u001b[1;33m\u001b[0m\u001b[0m\n\u001b[0;32m   1388\u001b[0m         \u001b[1;32mdef\u001b[0m \u001b[0mhttps_open\u001b[0m\u001b[1;33m(\u001b[0m\u001b[0mself\u001b[0m\u001b[1;33m,\u001b[0m \u001b[0mreq\u001b[0m\u001b[1;33m)\u001b[0m\u001b[1;33m:\u001b[0m\u001b[1;33m\u001b[0m\u001b[1;33m\u001b[0m\u001b[0m\n\u001b[1;32m-> 1389\u001b[1;33m             return self.do_open(http.client.HTTPSConnection, req,\n\u001b[0m\u001b[0;32m   1390\u001b[0m                 context=self._context, check_hostname=self._check_hostname)\n\u001b[0;32m   1391\u001b[0m \u001b[1;33m\u001b[0m\u001b[0m\n",
      "\u001b[1;32m~\\Anaconda3\\lib\\urllib\\request.py\u001b[0m in \u001b[0;36mdo_open\u001b[1;34m(self, http_class, req, **http_conn_args)\u001b[0m\n\u001b[0;32m   1347\u001b[0m                           encode_chunked=req.has_header('Transfer-encoding'))\n\u001b[0;32m   1348\u001b[0m             \u001b[1;32mexcept\u001b[0m \u001b[0mOSError\u001b[0m \u001b[1;32mas\u001b[0m \u001b[0merr\u001b[0m\u001b[1;33m:\u001b[0m \u001b[1;31m# timeout error\u001b[0m\u001b[1;33m\u001b[0m\u001b[1;33m\u001b[0m\u001b[0m\n\u001b[1;32m-> 1349\u001b[1;33m                 \u001b[1;32mraise\u001b[0m \u001b[0mURLError\u001b[0m\u001b[1;33m(\u001b[0m\u001b[0merr\u001b[0m\u001b[1;33m)\u001b[0m\u001b[1;33m\u001b[0m\u001b[1;33m\u001b[0m\u001b[0m\n\u001b[0m\u001b[0;32m   1350\u001b[0m             \u001b[0mr\u001b[0m \u001b[1;33m=\u001b[0m \u001b[0mh\u001b[0m\u001b[1;33m.\u001b[0m\u001b[0mgetresponse\u001b[0m\u001b[1;33m(\u001b[0m\u001b[1;33m)\u001b[0m\u001b[1;33m\u001b[0m\u001b[1;33m\u001b[0m\u001b[0m\n\u001b[0;32m   1351\u001b[0m         \u001b[1;32mexcept\u001b[0m\u001b[1;33m:\u001b[0m\u001b[1;33m\u001b[0m\u001b[1;33m\u001b[0m\u001b[0m\n",
      "\u001b[1;31mURLError\u001b[0m: <urlopen error [WinError 10060] A connection attempt failed because the connected party did not properly respond after a period of time, or established connection failed because connected host has failed to respond>"
     ]
    }
   ],
   "source": [
    "map_plot(city_grp)"
   ]
  },
  {
   "cell_type": "markdown",
   "metadata": {
    "id": "0nER3eh1IMeQ"
   },
   "source": [
    "<p><code>Answer:</code>Just like I assumed San Fransco has the highest Sales</p>\n",
    "<hr>"
   ]
  },
  {
   "cell_type": "markdown",
   "metadata": {
    "id": "lwGY7cr3Jl0-"
   },
   "source": [
    "<p><code>Question3:</code>What time should we display advertisements to maximize likelihood of customer's buying products</p>"
   ]
  },
  {
   "cell_type": "code",
   "execution_count": 14,
   "metadata": {
    "executionInfo": {
     "elapsed": 78,
     "status": "ok",
     "timestamp": 1651980843301,
     "user": {
      "displayName": "nyi bo",
      "userId": "17231526246512574964"
     },
     "user_tz": -390
    },
    "id": "pyN9JsOMGsw8"
   },
   "outputs": [],
   "source": [
    "#change Order Date to datetime\n",
    "df[\"Order Date\"]=pd.to_datetime(df[\"Order Date\"])"
   ]
  },
  {
   "cell_type": "markdown",
   "metadata": {
    "id": "3G17c0LRMHbP"
   },
   "source": [
    "<p1><strong>Time of the day</strong></p>"
   ]
  },
  {
   "cell_type": "code",
   "execution_count": 15,
   "metadata": {
    "colab": {
     "base_uri": "https://localhost:8080/",
     "height": 388
    },
    "executionInfo": {
     "elapsed": 730,
     "status": "ok",
     "timestamp": 1651980843954,
     "user": {
      "displayName": "nyi bo",
      "userId": "17231526246512574964"
     },
     "user_tz": -390
    },
    "id": "AGF_L5xIJ-zk",
    "outputId": "929b7b41-ba72-40a9-f038-5eb14b75d11f"
   },
   "outputs": [
    {
     "data": {
      "image/png": "[encoded data removed]",
      "text/plain": [
       "<Figure size 1080x432 with 1 Axes>"
      ]
     },
     "metadata": {
      "needs_background": "light"
     },
     "output_type": "display_data"
    }
   ],
   "source": [
    "df[\"Order Hour\"]=df[\"Order Date\"].dt.hour\n",
    "hour_grp=df.groupby(\"Order Hour\")[\"Order ID\"].count()\n",
    "\n",
    "#plot\n",
    "fig,ax=plt.subplots(figsize=(15,6))\n",
    "hours=[hour for hour in hour_grp.index]\n",
    "hour_grp.plot(ax=ax)\n",
    "ax.set_xticks(hours)\n",
    "\n",
    "#innotation\n",
    "max_ind=hour_grp.idxmax()\n",
    "ax.axvline(max_ind,color=\"yellow\",linewidth=10,alpha=.5)\n",
    "string = 'Best time of the day for advertisement'\n",
    "label = ax.text(max_ind,hour_grp.max()-5000, string, ha='center', va='center', fontsize=10, color=\"Red\")\n",
    "plt.grid()\n",
    "plt.ylabel(\"Amount of Order\")\n",
    "plt.show()"
   ]
  },
  {
   "cell_type": "markdown",
   "metadata": {
    "id": "jp0ldJudRPGW"
   },
   "source": [
    "<p1><strong>day of a week</strong></p>"
   ]
  },
  {
   "cell_type": "code",
   "execution_count": 16,
   "metadata": {
    "executionInfo": {
     "elapsed": 14,
     "status": "ok",
     "timestamp": 1651980843956,
     "user": {
      "displayName": "nyi bo",
      "userId": "17231526246512574964"
     },
     "user_tz": -390
    },
    "id": "eXoqMi92f4vr"
   },
   "outputs": [],
   "source": [
    "#function to plot two pie charts\n",
    "def plot_pies(df1,df2):\n",
    "  #plot pie chart\n",
    "  #colors\n",
    "  colors = ['#ff9999','#66b3ff','#99ff99','#ffcc99']\n",
    "\n",
    "  fig, axes = plt.subplots(1,2,figsize=(10,5))\n",
    "  for ax,df in zip(axes.ravel(),[df1,df2]):\n",
    "    ax.pie(df, colors = colors, labels=df.index,autopct=\"%1.1f\",startangle=90)\n",
    "\n",
    "    #draw circle\n",
    "    centre_circle = plt.Circle((0,0),0.5,fc='white')\n",
    "    fig = plt.gcf()\n",
    "    fig.gca().add_artist(centre_circle)\n"
   ]
  },
  {
   "cell_type": "code",
   "execution_count": 17,
   "metadata": {
    "colab": {
     "base_uri": "https://localhost:8080/",
     "height": 285
    },
    "executionInfo": {
     "elapsed": 799,
     "status": "ok",
     "timestamp": 1651980844743,
     "user": {
      "displayName": "nyi bo",
      "userId": "17231526246512574964"
     },
     "user_tz": -390
    },
    "id": "8F3Sfw_uLfjm",
    "outputId": "a66e1f9d-168c-48d7-9791-4893e23608ed"
   },
   "outputs": [
    {
     "data": {
      "image/png": "[encoded data removed]",
      "text/plain": [
       "<Figure size 720x360 with 2 Axes>"
      ]
     },
     "metadata": {},
     "output_type": "display_data"
    }
   ],
   "source": [
    "#first let's check do we have more orders on weekdays or on weekends\n",
    "weekdays=[\"Monday\",\"Thursday\",\"Wednesday\",\"Tuesday\",\"Friday\"]\n",
    "weekends=[\"Saturday\",\"Sunday\"]\n",
    "\n",
    "day_of_week_count=df[\"Order_day\"].value_counts()\n",
    "weekend_weekday_count=pd.Series({\"weekends\":int,\"weekdays\":int})\n",
    "weekend_weekday_count[\"weekdays\"]=day_of_week_count[weekdays].sum()/5\n",
    "weekend_weekday_count[\"weekends\"]=day_of_week_count[weekends].sum()/2\n",
    "\n",
    "\n",
    "plot_pies(weekend_weekday_count,day_of_week_count)"
   ]
  },
  {
   "cell_type": "markdown",
   "metadata": {
    "id": "k2HSsZlGXAAd"
   },
   "source": [
    "<p>According to the pie chart we get nearly the same amount of customer per day whether weekend or weekdays </p>\n",
    "\n",
    "\n",
    "<p><code>Answer:</code>the best time for advertisement is around 7pm </p>\n",
    "<hr>"
   ]
  },
  {
   "cell_type": "markdown",
   "metadata": {
    "id": "NDVoHteZol8S"
   },
   "source": [
    "<p><code>Question 4:</code>What products are sold together?</p>\n",
    "<code>Notion: products sold together have the same order ID<code>\n",
    "\n",
    "\n"
   ]
  },
  {
   "cell_type": "code",
   "execution_count": 18,
   "metadata": {
    "colab": {
     "base_uri": "https://localhost:8080/",
     "height": 832
    },
    "executionInfo": {
     "elapsed": 21,
     "status": "ok",
     "timestamp": 1651980844744,
     "user": {
      "displayName": "nyi bo",
      "userId": "17231526246512574964"
     },
     "user_tz": -390
    },
    "id": "-PLNN1b2owb_",
    "outputId": "1679d1cc-4db4-490b-cdc8-9d9147a41cc0"
   },
   "outputs": [
    {
     "data": {
      "text/html": [
       "<div>\n",
       "<style scoped>\n",
       "    .dataframe tbody tr th:only-of-type {\n",
       "        vertical-align: middle;\n",
       "    }\n",
       "\n",
       "    .dataframe tbody tr th {\n",
       "        vertical-align: top;\n",
       "    }\n",
       "\n",
       "    .dataframe thead th {\n",
       "        text-align: right;\n",
       "    }\n",
       "</style>\n",
       "<table border=\"1\" class=\"dataframe\">\n",
       "  <thead>\n",
       "    <tr style=\"text-align: right;\">\n",
       "      <th></th>\n",
       "      <th>Order ID</th>\n",
       "      <th>Product</th>\n",
       "      <th>Quantity Ordered</th>\n",
       "      <th>Price Each</th>\n",
       "      <th>Order Date</th>\n",
       "      <th>Order_Month</th>\n",
       "      <th>Order_day</th>\n",
       "      <th>Address</th>\n",
       "      <th>City</th>\n",
       "      <th>Zip_Code</th>\n",
       "      <th>Product_cat</th>\n",
       "      <th>Quantity_cat</th>\n",
       "      <th>Total Price</th>\n",
       "      <th>Order Hour</th>\n",
       "    </tr>\n",
       "  </thead>\n",
       "  <tbody>\n",
       "    <tr>\n",
       "      <th>23555</th>\n",
       "      <td>141275.0</td>\n",
       "      <td>USB-C Charging Cable</td>\n",
       "      <td>1.0</td>\n",
       "      <td>11.95</td>\n",
       "      <td>2019-01-07 16:06:00</td>\n",
       "      <td>January</td>\n",
       "      <td>Monday</td>\n",
       "      <td>610 Walnut St</td>\n",
       "      <td>Austin</td>\n",
       "      <td>TX 73301</td>\n",
       "      <td>cheap</td>\n",
       "      <td>normal</td>\n",
       "      <td>11.95</td>\n",
       "      <td>16</td>\n",
       "    </tr>\n",
       "    <tr>\n",
       "      <th>23556</th>\n",
       "      <td>141275.0</td>\n",
       "      <td>Wired Headphones</td>\n",
       "      <td>1.0</td>\n",
       "      <td>11.99</td>\n",
       "      <td>2019-01-07 16:06:00</td>\n",
       "      <td>January</td>\n",
       "      <td>Monday</td>\n",
       "      <td>610 Walnut St</td>\n",
       "      <td>Austin</td>\n",
       "      <td>TX 73301</td>\n",
       "      <td>affordable</td>\n",
       "      <td>normal</td>\n",
       "      <td>11.99</td>\n",
       "      <td>16</td>\n",
       "    </tr>\n",
       "    <tr>\n",
       "      <th>23572</th>\n",
       "      <td>141290.0</td>\n",
       "      <td>AA Batteries (4-pack)</td>\n",
       "      <td>3.0</td>\n",
       "      <td>3.84</td>\n",
       "      <td>2019-01-02 08:25:00</td>\n",
       "      <td>January</td>\n",
       "      <td>Wednesday</td>\n",
       "      <td>4 1st St</td>\n",
       "      <td>Los Angeles</td>\n",
       "      <td>CA 90001</td>\n",
       "      <td>cheap</td>\n",
       "      <td>market</td>\n",
       "      <td>11.52</td>\n",
       "      <td>8</td>\n",
       "    </tr>\n",
       "    <tr>\n",
       "      <th>23571</th>\n",
       "      <td>141290.0</td>\n",
       "      <td>Apple Airpods Headphones</td>\n",
       "      <td>1.0</td>\n",
       "      <td>150.00</td>\n",
       "      <td>2019-01-02 08:25:00</td>\n",
       "      <td>January</td>\n",
       "      <td>Wednesday</td>\n",
       "      <td>4 1st St</td>\n",
       "      <td>Los Angeles</td>\n",
       "      <td>CA 90001</td>\n",
       "      <td>expensive</td>\n",
       "      <td>normal</td>\n",
       "      <td>150.00</td>\n",
       "      <td>8</td>\n",
       "    </tr>\n",
       "    <tr>\n",
       "      <th>23648</th>\n",
       "      <td>141365.0</td>\n",
       "      <td>Wired Headphones</td>\n",
       "      <td>1.0</td>\n",
       "      <td>11.99</td>\n",
       "      <td>2019-01-10 11:19:00</td>\n",
       "      <td>January</td>\n",
       "      <td>Thursday</td>\n",
       "      <td>20 Dogwood St</td>\n",
       "      <td>New York City</td>\n",
       "      <td>NY 10001</td>\n",
       "      <td>affordable</td>\n",
       "      <td>normal</td>\n",
       "      <td>11.99</td>\n",
       "      <td>11</td>\n",
       "    </tr>\n",
       "    <tr>\n",
       "      <th>...</th>\n",
       "      <td>...</td>\n",
       "      <td>...</td>\n",
       "      <td>...</td>\n",
       "      <td>...</td>\n",
       "      <td>...</td>\n",
       "      <td>...</td>\n",
       "      <td>...</td>\n",
       "      <td>...</td>\n",
       "      <td>...</td>\n",
       "      <td>...</td>\n",
       "      <td>...</td>\n",
       "      <td>...</td>\n",
       "      <td>...</td>\n",
       "      <td>...</td>\n",
       "    </tr>\n",
       "    <tr>\n",
       "      <th>167088</th>\n",
       "      <td>319584.0</td>\n",
       "      <td>Wired Headphones</td>\n",
       "      <td>1.0</td>\n",
       "      <td>11.99</td>\n",
       "      <td>2019-12-11 00:30:00</td>\n",
       "      <td>December</td>\n",
       "      <td>Wednesday</td>\n",
       "      <td>537 Sunset St</td>\n",
       "      <td>Portland</td>\n",
       "      <td>OR 97035</td>\n",
       "      <td>affordable</td>\n",
       "      <td>normal</td>\n",
       "      <td>11.99</td>\n",
       "      <td>0</td>\n",
       "    </tr>\n",
       "    <tr>\n",
       "      <th>167100</th>\n",
       "      <td>319596.0</td>\n",
       "      <td>iPhone</td>\n",
       "      <td>1.0</td>\n",
       "      <td>700.00</td>\n",
       "      <td>2019-12-01 08:44:00</td>\n",
       "      <td>December</td>\n",
       "      <td>Sunday</td>\n",
       "      <td>436 14th St</td>\n",
       "      <td>New York City</td>\n",
       "      <td>NY 10001</td>\n",
       "      <td>fancy</td>\n",
       "      <td>normal</td>\n",
       "      <td>700.00</td>\n",
       "      <td>8</td>\n",
       "    </tr>\n",
       "    <tr>\n",
       "      <th>167101</th>\n",
       "      <td>319596.0</td>\n",
       "      <td>Lightning Charging Cable</td>\n",
       "      <td>1.0</td>\n",
       "      <td>14.95</td>\n",
       "      <td>2019-12-01 08:44:00</td>\n",
       "      <td>December</td>\n",
       "      <td>Sunday</td>\n",
       "      <td>436 14th St</td>\n",
       "      <td>New York City</td>\n",
       "      <td>NY 10001</td>\n",
       "      <td>affordable</td>\n",
       "      <td>normal</td>\n",
       "      <td>14.95</td>\n",
       "      <td>8</td>\n",
       "    </tr>\n",
       "    <tr>\n",
       "      <th>167137</th>\n",
       "      <td>319631.0</td>\n",
       "      <td>Lightning Charging Cable</td>\n",
       "      <td>1.0</td>\n",
       "      <td>14.95</td>\n",
       "      <td>2019-12-17 22:35:00</td>\n",
       "      <td>December</td>\n",
       "      <td>Tuesday</td>\n",
       "      <td>363 Highland St</td>\n",
       "      <td>Austin</td>\n",
       "      <td>TX 73301</td>\n",
       "      <td>affordable</td>\n",
       "      <td>normal</td>\n",
       "      <td>14.95</td>\n",
       "      <td>22</td>\n",
       "    </tr>\n",
       "    <tr>\n",
       "      <th>167136</th>\n",
       "      <td>319631.0</td>\n",
       "      <td>34in Ultrawide Monitor</td>\n",
       "      <td>1.0</td>\n",
       "      <td>379.99</td>\n",
       "      <td>2019-12-17 22:35:00</td>\n",
       "      <td>December</td>\n",
       "      <td>Tuesday</td>\n",
       "      <td>363 Highland St</td>\n",
       "      <td>Austin</td>\n",
       "      <td>TX 73301</td>\n",
       "      <td>fancy</td>\n",
       "      <td>normal</td>\n",
       "      <td>379.99</td>\n",
       "      <td>22</td>\n",
       "    </tr>\n",
       "  </tbody>\n",
       "</table>\n",
       "<p>14116 rows × 14 columns</p>\n",
       "</div>"
      ],
      "text/plain": [
       "        Order ID                   Product  Quantity Ordered  Price Each  \\\n",
       "23555   141275.0      USB-C Charging Cable               1.0       11.95   \n",
       "23556   141275.0          Wired Headphones               1.0       11.99   \n",
       "23572   141290.0     AA Batteries (4-pack)               3.0        3.84   \n",
       "23571   141290.0  Apple Airpods Headphones               1.0      150.00   \n",
       "23648   141365.0          Wired Headphones               1.0       11.99   \n",
       "...          ...                       ...               ...         ...   \n",
       "167088  319584.0          Wired Headphones               1.0       11.99   \n",
       "167100  319596.0                    iPhone               1.0      700.00   \n",
       "167101  319596.0  Lightning Charging Cable               1.0       14.95   \n",
       "167137  319631.0  Lightning Charging Cable               1.0       14.95   \n",
       "167136  319631.0    34in Ultrawide Monitor               1.0      379.99   \n",
       "\n",
       "                Order Date Order_Month  Order_day          Address  \\\n",
       "23555  2019-01-07 16:06:00     January     Monday    610 Walnut St   \n",
       "23556  2019-01-07 16:06:00     January     Monday    610 Walnut St   \n",
       "23572  2019-01-02 08:25:00     January  Wednesday         4 1st St   \n",
       "23571  2019-01-02 08:25:00     January  Wednesday         4 1st St   \n",
       "23648  2019-01-10 11:19:00     January   Thursday    20 Dogwood St   \n",
       "...                    ...         ...        ...              ...   \n",
       "167088 2019-12-11 00:30:00    December  Wednesday    537 Sunset St   \n",
       "167100 2019-12-01 08:44:00    December     Sunday      436 14th St   \n",
       "167101 2019-12-01 08:44:00    December     Sunday      436 14th St   \n",
       "167137 2019-12-17 22:35:00    December    Tuesday  363 Highland St   \n",
       "167136 2019-12-17 22:35:00    December    Tuesday  363 Highland St   \n",
       "\n",
       "                  City   Zip_Code Product_cat Quantity_cat  Total Price  \\\n",
       "23555           Austin   TX 73301       cheap       normal        11.95   \n",
       "23556           Austin   TX 73301  affordable       normal        11.99   \n",
       "23572      Los Angeles   CA 90001       cheap       market        11.52   \n",
       "23571      Los Angeles   CA 90001   expensive       normal       150.00   \n",
       "23648    New York City   NY 10001  affordable       normal        11.99   \n",
       "...                ...        ...         ...          ...          ...   \n",
       "167088        Portland   OR 97035  affordable       normal        11.99   \n",
       "167100   New York City   NY 10001       fancy       normal       700.00   \n",
       "167101   New York City   NY 10001  affordable       normal        14.95   \n",
       "167137          Austin   TX 73301  affordable       normal        14.95   \n",
       "167136          Austin   TX 73301       fancy       normal       379.99   \n",
       "\n",
       "        Order Hour  \n",
       "23555           16  \n",
       "23556           16  \n",
       "23572            8  \n",
       "23571            8  \n",
       "23648           11  \n",
       "...            ...  \n",
       "167088           0  \n",
       "167100           8  \n",
       "167101           8  \n",
       "167137          22  \n",
       "167136          22  \n",
       "\n",
       "[14116 rows x 14 columns]"
      ]
     },
     "execution_count": 18,
     "metadata": {},
     "output_type": "execute_result"
    }
   ],
   "source": [
    "ordered_together_df=df[df.duplicated(subset=(\"Order ID\"),keep=False)].sort_values(by=\"Order ID\")\n",
    "ordered_together_df"
   ]
  },
  {
   "cell_type": "code",
   "execution_count": 19,
   "metadata": {
    "colab": {
     "base_uri": "https://localhost:8080/",
     "height": 852
    },
    "executionInfo": {
     "elapsed": 1424,
     "status": "ok",
     "timestamp": 1651980846149,
     "user": {
      "displayName": "nyi bo",
      "userId": "17231526246512574964"
     },
     "user_tz": -390
    },
    "id": "0l3MLTarov8q",
    "outputId": "99f1f359-185d-4127-b988-0df28f8f2f2e"
   },
   "outputs": [
    {
     "data": {
      "text/html": [
       "<div>\n",
       "<style scoped>\n",
       "    .dataframe tbody tr th:only-of-type {\n",
       "        vertical-align: middle;\n",
       "    }\n",
       "\n",
       "    .dataframe tbody tr th {\n",
       "        vertical-align: top;\n",
       "    }\n",
       "\n",
       "    .dataframe thead th {\n",
       "        text-align: right;\n",
       "    }\n",
       "</style>\n",
       "<table border=\"1\" class=\"dataframe\">\n",
       "  <thead>\n",
       "    <tr style=\"text-align: right;\">\n",
       "      <th></th>\n",
       "      <th>Order ID</th>\n",
       "      <th>Product</th>\n",
       "      <th>Quantity Ordered</th>\n",
       "      <th>Price Each</th>\n",
       "      <th>Order Date</th>\n",
       "      <th>Order_Month</th>\n",
       "      <th>Order_day</th>\n",
       "      <th>Address</th>\n",
       "      <th>City</th>\n",
       "      <th>Zip_Code</th>\n",
       "      <th>Product_cat</th>\n",
       "      <th>Quantity_cat</th>\n",
       "      <th>Total Price</th>\n",
       "      <th>Order Hour</th>\n",
       "      <th>Grouped</th>\n",
       "    </tr>\n",
       "  </thead>\n",
       "  <tbody>\n",
       "    <tr>\n",
       "      <th>23555</th>\n",
       "      <td>141275.0</td>\n",
       "      <td>USB-C Charging Cable</td>\n",
       "      <td>1.0</td>\n",
       "      <td>11.95</td>\n",
       "      <td>2019-01-07 16:06:00</td>\n",
       "      <td>January</td>\n",
       "      <td>Monday</td>\n",
       "      <td>610 Walnut St</td>\n",
       "      <td>Austin</td>\n",
       "      <td>TX 73301</td>\n",
       "      <td>cheap</td>\n",
       "      <td>normal</td>\n",
       "      <td>11.95</td>\n",
       "      <td>16</td>\n",
       "      <td>USB-C Charging Cable,Wired Headphones</td>\n",
       "    </tr>\n",
       "    <tr>\n",
       "      <th>23556</th>\n",
       "      <td>141275.0</td>\n",
       "      <td>Wired Headphones</td>\n",
       "      <td>1.0</td>\n",
       "      <td>11.99</td>\n",
       "      <td>2019-01-07 16:06:00</td>\n",
       "      <td>January</td>\n",
       "      <td>Monday</td>\n",
       "      <td>610 Walnut St</td>\n",
       "      <td>Austin</td>\n",
       "      <td>TX 73301</td>\n",
       "      <td>affordable</td>\n",
       "      <td>normal</td>\n",
       "      <td>11.99</td>\n",
       "      <td>16</td>\n",
       "      <td>USB-C Charging Cable,Wired Headphones</td>\n",
       "    </tr>\n",
       "    <tr>\n",
       "      <th>23572</th>\n",
       "      <td>141290.0</td>\n",
       "      <td>AA Batteries (4-pack)</td>\n",
       "      <td>3.0</td>\n",
       "      <td>3.84</td>\n",
       "      <td>2019-01-02 08:25:00</td>\n",
       "      <td>January</td>\n",
       "      <td>Wednesday</td>\n",
       "      <td>4 1st St</td>\n",
       "      <td>Los Angeles</td>\n",
       "      <td>CA 90001</td>\n",
       "      <td>cheap</td>\n",
       "      <td>market</td>\n",
       "      <td>11.52</td>\n",
       "      <td>8</td>\n",
       "      <td>AA Batteries (4-pack),Apple Airpods Headphones</td>\n",
       "    </tr>\n",
       "    <tr>\n",
       "      <th>23571</th>\n",
       "      <td>141290.0</td>\n",
       "      <td>Apple Airpods Headphones</td>\n",
       "      <td>1.0</td>\n",
       "      <td>150.00</td>\n",
       "      <td>2019-01-02 08:25:00</td>\n",
       "      <td>January</td>\n",
       "      <td>Wednesday</td>\n",
       "      <td>4 1st St</td>\n",
       "      <td>Los Angeles</td>\n",
       "      <td>CA 90001</td>\n",
       "      <td>expensive</td>\n",
       "      <td>normal</td>\n",
       "      <td>150.00</td>\n",
       "      <td>8</td>\n",
       "      <td>AA Batteries (4-pack),Apple Airpods Headphones</td>\n",
       "    </tr>\n",
       "    <tr>\n",
       "      <th>23648</th>\n",
       "      <td>141365.0</td>\n",
       "      <td>Wired Headphones</td>\n",
       "      <td>1.0</td>\n",
       "      <td>11.99</td>\n",
       "      <td>2019-01-10 11:19:00</td>\n",
       "      <td>January</td>\n",
       "      <td>Thursday</td>\n",
       "      <td>20 Dogwood St</td>\n",
       "      <td>New York City</td>\n",
       "      <td>NY 10001</td>\n",
       "      <td>affordable</td>\n",
       "      <td>normal</td>\n",
       "      <td>11.99</td>\n",
       "      <td>11</td>\n",
       "      <td>Wired Headphones,Vareebadd Phone</td>\n",
       "    </tr>\n",
       "    <tr>\n",
       "      <th>...</th>\n",
       "      <td>...</td>\n",
       "      <td>...</td>\n",
       "      <td>...</td>\n",
       "      <td>...</td>\n",
       "      <td>...</td>\n",
       "      <td>...</td>\n",
       "      <td>...</td>\n",
       "      <td>...</td>\n",
       "      <td>...</td>\n",
       "      <td>...</td>\n",
       "      <td>...</td>\n",
       "      <td>...</td>\n",
       "      <td>...</td>\n",
       "      <td>...</td>\n",
       "      <td>...</td>\n",
       "    </tr>\n",
       "    <tr>\n",
       "      <th>167088</th>\n",
       "      <td>319584.0</td>\n",
       "      <td>Wired Headphones</td>\n",
       "      <td>1.0</td>\n",
       "      <td>11.99</td>\n",
       "      <td>2019-12-11 00:30:00</td>\n",
       "      <td>December</td>\n",
       "      <td>Wednesday</td>\n",
       "      <td>537 Sunset St</td>\n",
       "      <td>Portland</td>\n",
       "      <td>OR 97035</td>\n",
       "      <td>affordable</td>\n",
       "      <td>normal</td>\n",
       "      <td>11.99</td>\n",
       "      <td>0</td>\n",
       "      <td>iPhone,Wired Headphones</td>\n",
       "    </tr>\n",
       "    <tr>\n",
       "      <th>167100</th>\n",
       "      <td>319596.0</td>\n",
       "      <td>iPhone</td>\n",
       "      <td>1.0</td>\n",
       "      <td>700.00</td>\n",
       "      <td>2019-12-01 08:44:00</td>\n",
       "      <td>December</td>\n",
       "      <td>Sunday</td>\n",
       "      <td>436 14th St</td>\n",
       "      <td>New York City</td>\n",
       "      <td>NY 10001</td>\n",
       "      <td>fancy</td>\n",
       "      <td>normal</td>\n",
       "      <td>700.00</td>\n",
       "      <td>8</td>\n",
       "      <td>iPhone,Lightning Charging Cable</td>\n",
       "    </tr>\n",
       "    <tr>\n",
       "      <th>167101</th>\n",
       "      <td>319596.0</td>\n",
       "      <td>Lightning Charging Cable</td>\n",
       "      <td>1.0</td>\n",
       "      <td>14.95</td>\n",
       "      <td>2019-12-01 08:44:00</td>\n",
       "      <td>December</td>\n",
       "      <td>Sunday</td>\n",
       "      <td>436 14th St</td>\n",
       "      <td>New York City</td>\n",
       "      <td>NY 10001</td>\n",
       "      <td>affordable</td>\n",
       "      <td>normal</td>\n",
       "      <td>14.95</td>\n",
       "      <td>8</td>\n",
       "      <td>iPhone,Lightning Charging Cable</td>\n",
       "    </tr>\n",
       "    <tr>\n",
       "      <th>167137</th>\n",
       "      <td>319631.0</td>\n",
       "      <td>Lightning Charging Cable</td>\n",
       "      <td>1.0</td>\n",
       "      <td>14.95</td>\n",
       "      <td>2019-12-17 22:35:00</td>\n",
       "      <td>December</td>\n",
       "      <td>Tuesday</td>\n",
       "      <td>363 Highland St</td>\n",
       "      <td>Austin</td>\n",
       "      <td>TX 73301</td>\n",
       "      <td>affordable</td>\n",
       "      <td>normal</td>\n",
       "      <td>14.95</td>\n",
       "      <td>22</td>\n",
       "      <td>Lightning Charging Cable,34in Ultrawide Monitor</td>\n",
       "    </tr>\n",
       "    <tr>\n",
       "      <th>167136</th>\n",
       "      <td>319631.0</td>\n",
       "      <td>34in Ultrawide Monitor</td>\n",
       "      <td>1.0</td>\n",
       "      <td>379.99</td>\n",
       "      <td>2019-12-17 22:35:00</td>\n",
       "      <td>December</td>\n",
       "      <td>Tuesday</td>\n",
       "      <td>363 Highland St</td>\n",
       "      <td>Austin</td>\n",
       "      <td>TX 73301</td>\n",
       "      <td>fancy</td>\n",
       "      <td>normal</td>\n",
       "      <td>379.99</td>\n",
       "      <td>22</td>\n",
       "      <td>Lightning Charging Cable,34in Ultrawide Monitor</td>\n",
       "    </tr>\n",
       "  </tbody>\n",
       "</table>\n",
       "<p>14116 rows × 15 columns</p>\n",
       "</div>"
      ],
      "text/plain": [
       "        Order ID                   Product  Quantity Ordered  Price Each  \\\n",
       "23555   141275.0      USB-C Charging Cable               1.0       11.95   \n",
       "23556   141275.0          Wired Headphones               1.0       11.99   \n",
       "23572   141290.0     AA Batteries (4-pack)               3.0        3.84   \n",
       "23571   141290.0  Apple Airpods Headphones               1.0      150.00   \n",
       "23648   141365.0          Wired Headphones               1.0       11.99   \n",
       "...          ...                       ...               ...         ...   \n",
       "167088  319584.0          Wired Headphones               1.0       11.99   \n",
       "167100  319596.0                    iPhone               1.0      700.00   \n",
       "167101  319596.0  Lightning Charging Cable               1.0       14.95   \n",
       "167137  319631.0  Lightning Charging Cable               1.0       14.95   \n",
       "167136  319631.0    34in Ultrawide Monitor               1.0      379.99   \n",
       "\n",
       "                Order Date Order_Month  Order_day          Address  \\\n",
       "23555  2019-01-07 16:06:00     January     Monday    610 Walnut St   \n",
       "23556  2019-01-07 16:06:00     January     Monday    610 Walnut St   \n",
       "23572  2019-01-02 08:25:00     January  Wednesday         4 1st St   \n",
       "23571  2019-01-02 08:25:00     January  Wednesday         4 1st St   \n",
       "23648  2019-01-10 11:19:00     January   Thursday    20 Dogwood St   \n",
       "...                    ...         ...        ...              ...   \n",
       "167088 2019-12-11 00:30:00    December  Wednesday    537 Sunset St   \n",
       "167100 2019-12-01 08:44:00    December     Sunday      436 14th St   \n",
       "167101 2019-12-01 08:44:00    December     Sunday      436 14th St   \n",
       "167137 2019-12-17 22:35:00    December    Tuesday  363 Highland St   \n",
       "167136 2019-12-17 22:35:00    December    Tuesday  363 Highland St   \n",
       "\n",
       "                  City   Zip_Code Product_cat Quantity_cat  Total Price  \\\n",
       "23555           Austin   TX 73301       cheap       normal        11.95   \n",
       "23556           Austin   TX 73301  affordable       normal        11.99   \n",
       "23572      Los Angeles   CA 90001       cheap       market        11.52   \n",
       "23571      Los Angeles   CA 90001   expensive       normal       150.00   \n",
       "23648    New York City   NY 10001  affordable       normal        11.99   \n",
       "...                ...        ...         ...          ...          ...   \n",
       "167088        Portland   OR 97035  affordable       normal        11.99   \n",
       "167100   New York City   NY 10001       fancy       normal       700.00   \n",
       "167101   New York City   NY 10001  affordable       normal        14.95   \n",
       "167137          Austin   TX 73301  affordable       normal        14.95   \n",
       "167136          Austin   TX 73301       fancy       normal       379.99   \n",
       "\n",
       "        Order Hour                                          Grouped  \n",
       "23555           16            USB-C Charging Cable,Wired Headphones  \n",
       "23556           16            USB-C Charging Cable,Wired Headphones  \n",
       "23572            8   AA Batteries (4-pack),Apple Airpods Headphones  \n",
       "23571            8   AA Batteries (4-pack),Apple Airpods Headphones  \n",
       "23648           11                 Wired Headphones,Vareebadd Phone  \n",
       "...            ...                                              ...  \n",
       "167088           0                          iPhone,Wired Headphones  \n",
       "167100           8                  iPhone,Lightning Charging Cable  \n",
       "167101           8                  iPhone,Lightning Charging Cable  \n",
       "167137          22  Lightning Charging Cable,34in Ultrawide Monitor  \n",
       "167136          22  Lightning Charging Cable,34in Ultrawide Monitor  \n",
       "\n",
       "[14116 rows x 15 columns]"
      ]
     },
     "execution_count": 19,
     "metadata": {},
     "output_type": "execute_result"
    }
   ],
   "source": [
    "ordered_together_df[\"Grouped\"]=ordered_together_df.groupby(\"Order ID\")[\"Product\"].transform(lambda x:','.join(x))\n",
    "ordered_together_df"
   ]
  },
  {
   "cell_type": "code",
   "execution_count": 20,
   "metadata": {
    "colab": {
     "base_uri": "https://localhost:8080/"
    },
    "executionInfo": {
     "elapsed": 48,
     "status": "ok",
     "timestamp": 1651980846160,
     "user": {
      "displayName": "nyi bo",
      "userId": "17231526246512574964"
     },
     "user_tz": -390
    },
    "id": "ltOdd-JsssMA",
    "outputId": "525f7b9e-9844-4ca9-a32f-b08ce1f28b84"
   },
   "outputs": [
    {
     "data": {
      "text/plain": [
       "[(('iPhone', 'Lightning Charging Cable'), 1582),\n",
       " (('Google Phone', 'USB-C Charging Cable'), 1557),\n",
       " (('Google Phone', 'Wired Headphones'), 699),\n",
       " (('iPhone', 'Wired Headphones'), 695),\n",
       " (('iPhone', 'Apple Airpods Headphones'), 591),\n",
       " (('Vareebadd Phone', 'USB-C Charging Cable'), 591)]"
      ]
     },
     "execution_count": 20,
     "metadata": {},
     "output_type": "execute_result"
    }
   ],
   "source": [
    "count=Counter()\n",
    "for row in ordered_together_df[\"Grouped\"]:\n",
    "  row_list=row.split(\",\")\n",
    "  count.update(Counter(combinations(row_list,2)))\n",
    "\n",
    "count.most_common(6)"
   ]
  },
  {
   "cell_type": "code",
   "execution_count": 21,
   "metadata": {
    "executionInfo": {
     "elapsed": 48,
     "status": "ok",
     "timestamp": 1651980846167,
     "user": {
      "displayName": "nyi bo",
      "userId": "17231526246512574964"
     },
     "user_tz": -390
    },
    "id": "i4FBumpDacyE"
   },
   "outputs": [],
   "source": [
    "def plot_tree_map(df):\n",
    "  sizes =df\n",
    "  labels=df.index\n",
    "  fig, ax = plt.subplots(1, figsize = (12,12))\n",
    "  colors= [\"red\", \"black\", \"green\",\n",
    "          \"violet\", \"yellow\", \"blue\"]\n",
    "  squarify.plot(sizes=sizes[:6], \n",
    "                label=labels[:6], \n",
    "                alpha=.8,pad=True,\n",
    "                 color=colors)\n",
    "  plt.axis('off')\n",
    "  plt.show()"
   ]
  },
  {
   "cell_type": "code",
   "execution_count": 22,
   "metadata": {
    "colab": {
     "base_uri": "https://localhost:8080/",
     "height": 683
    },
    "executionInfo": {
     "elapsed": 60,
     "status": "ok",
     "timestamp": 1651980846180,
     "user": {
      "displayName": "nyi bo",
      "userId": "17231526246512574964"
     },
     "user_tz": -390
    },
    "id": "HHNobsytdX7h",
    "outputId": "24e23445-aeb2-4ea2-c292-0764b64e799a"
   },
   "outputs": [
    {
     "data": {
      "image/png": "[encoded data removed]",
      "text/plain": [
       "<Figure size 864x864 with 1 Axes>"
      ]
     },
     "metadata": {
      "needs_background": "light"
     },
     "output_type": "display_data"
    }
   ],
   "source": [
    "plot_tree_map(ordered_together_df[\"Grouped\"].value_counts())"
   ]
  },
  {
   "cell_type": "markdown",
   "metadata": {
    "id": "kRR5BZW4L_8C"
   },
   "source": [
    "<p><code>Answer:</code>Iphone and Lightning Charging Cable are best sold together </p>\n",
    "<hr>"
   ]
  },
  {
   "cell_type": "markdown",
   "metadata": {
    "id": "ysw_7ZzeOxpb"
   },
   "source": [
    "<p><code>Question 5:</code>What products sold the most?and Why are they sold most</p>"
   ]
  },
  {
   "cell_type": "code",
   "execution_count": 23,
   "metadata": {
    "executionInfo": {
     "elapsed": 59,
     "status": "ok",
     "timestamp": 1651980846182,
     "user": {
      "displayName": "nyi bo",
      "userId": "17231526246512574964"
     },
     "user_tz": -390
    },
    "id": "huZ1vE0wO49a"
   },
   "outputs": [],
   "source": [
    "product_quant_df=df.groupby(\"Product\")[\"Quantity Ordered\"].sum()\n",
    "product_price_df=df.groupby(\"Product\")[\"Price Each\"].mean()"
   ]
  },
  {
   "cell_type": "code",
   "execution_count": 24,
   "metadata": {
    "colab": {
     "base_uri": "https://localhost:8080/",
     "height": 676
    },
    "executionInfo": {
     "elapsed": 41,
     "status": "ok",
     "timestamp": 1651980847716,
     "user": {
      "displayName": "nyi bo",
      "userId": "17231526246512574964"
     },
     "user_tz": -390
    },
    "id": "91gh38pVPrmp",
    "outputId": "4f5b1645-9cf3-4817-94c3-67469617ebf4"
   },
   "outputs": [
    {
     "data": {
      "text/html": [
       "<div>\n",
       "<style scoped>\n",
       "    .dataframe tbody tr th:only-of-type {\n",
       "        vertical-align: middle;\n",
       "    }\n",
       "\n",
       "    .dataframe tbody tr th {\n",
       "        vertical-align: top;\n",
       "    }\n",
       "\n",
       "    .dataframe thead th {\n",
       "        text-align: right;\n",
       "    }\n",
       "</style>\n",
       "<table border=\"1\" class=\"dataframe\">\n",
       "  <thead>\n",
       "    <tr style=\"text-align: right;\">\n",
       "      <th></th>\n",
       "      <th>Quantity Ordered</th>\n",
       "      <th>Price Each</th>\n",
       "    </tr>\n",
       "    <tr>\n",
       "      <th>Product</th>\n",
       "      <th></th>\n",
       "      <th></th>\n",
       "    </tr>\n",
       "  </thead>\n",
       "  <tbody>\n",
       "    <tr>\n",
       "      <th>20in Monitor</th>\n",
       "      <td>4123.0</td>\n",
       "      <td>109.99</td>\n",
       "    </tr>\n",
       "    <tr>\n",
       "      <th>27in 4K Gaming Monitor</th>\n",
       "      <td>6234.0</td>\n",
       "      <td>389.99</td>\n",
       "    </tr>\n",
       "    <tr>\n",
       "      <th>27in FHD Monitor</th>\n",
       "      <td>7532.0</td>\n",
       "      <td>149.99</td>\n",
       "    </tr>\n",
       "    <tr>\n",
       "      <th>34in Ultrawide Monitor</th>\n",
       "      <td>6185.0</td>\n",
       "      <td>379.99</td>\n",
       "    </tr>\n",
       "    <tr>\n",
       "      <th>AA Batteries (4-pack)</th>\n",
       "      <td>27595.0</td>\n",
       "      <td>3.84</td>\n",
       "    </tr>\n",
       "    <tr>\n",
       "      <th>AAA Batteries (4-pack)</th>\n",
       "      <td>30955.0</td>\n",
       "      <td>2.99</td>\n",
       "    </tr>\n",
       "    <tr>\n",
       "      <th>Apple Airpods Headphones</th>\n",
       "      <td>15613.0</td>\n",
       "      <td>150.00</td>\n",
       "    </tr>\n",
       "    <tr>\n",
       "      <th>Bose SoundSport Headphones</th>\n",
       "      <td>13403.0</td>\n",
       "      <td>99.99</td>\n",
       "    </tr>\n",
       "    <tr>\n",
       "      <th>Flatscreen TV</th>\n",
       "      <td>4807.0</td>\n",
       "      <td>300.00</td>\n",
       "    </tr>\n",
       "    <tr>\n",
       "      <th>Google Phone</th>\n",
       "      <td>5526.0</td>\n",
       "      <td>600.00</td>\n",
       "    </tr>\n",
       "    <tr>\n",
       "      <th>LG Dryer</th>\n",
       "      <td>646.0</td>\n",
       "      <td>600.00</td>\n",
       "    </tr>\n",
       "    <tr>\n",
       "      <th>LG Washing Machine</th>\n",
       "      <td>666.0</td>\n",
       "      <td>600.00</td>\n",
       "    </tr>\n",
       "    <tr>\n",
       "      <th>Lightning Charging Cable</th>\n",
       "      <td>23121.0</td>\n",
       "      <td>14.95</td>\n",
       "    </tr>\n",
       "    <tr>\n",
       "      <th>Macbook Pro Laptop</th>\n",
       "      <td>4722.0</td>\n",
       "      <td>1700.00</td>\n",
       "    </tr>\n",
       "    <tr>\n",
       "      <th>ThinkPad Laptop</th>\n",
       "      <td>4126.0</td>\n",
       "      <td>999.99</td>\n",
       "    </tr>\n",
       "    <tr>\n",
       "      <th>USB-C Charging Cable</th>\n",
       "      <td>23887.0</td>\n",
       "      <td>11.95</td>\n",
       "    </tr>\n",
       "    <tr>\n",
       "      <th>Vareebadd Phone</th>\n",
       "      <td>2068.0</td>\n",
       "      <td>400.00</td>\n",
       "    </tr>\n",
       "    <tr>\n",
       "      <th>Wired Headphones</th>\n",
       "      <td>20491.0</td>\n",
       "      <td>11.99</td>\n",
       "    </tr>\n",
       "    <tr>\n",
       "      <th>iPhone</th>\n",
       "      <td>6845.0</td>\n",
       "      <td>700.00</td>\n",
       "    </tr>\n",
       "  </tbody>\n",
       "</table>\n",
       "</div>"
      ],
      "text/plain": [
       "                            Quantity Ordered  Price Each\n",
       "Product                                                 \n",
       "20in Monitor                          4123.0      109.99\n",
       "27in 4K Gaming Monitor                6234.0      389.99\n",
       "27in FHD Monitor                      7532.0      149.99\n",
       "34in Ultrawide Monitor                6185.0      379.99\n",
       "AA Batteries (4-pack)                27595.0        3.84\n",
       "AAA Batteries (4-pack)               30955.0        2.99\n",
       "Apple Airpods Headphones             15613.0      150.00\n",
       "Bose SoundSport Headphones           13403.0       99.99\n",
       "Flatscreen TV                         4807.0      300.00\n",
       "Google Phone                          5526.0      600.00\n",
       "LG Dryer                               646.0      600.00\n",
       "LG Washing Machine                     666.0      600.00\n",
       "Lightning Charging Cable             23121.0       14.95\n",
       "Macbook Pro Laptop                    4722.0     1700.00\n",
       "ThinkPad Laptop                       4126.0      999.99\n",
       "USB-C Charging Cable                 23887.0       11.95\n",
       "Vareebadd Phone                       2068.0      400.00\n",
       "Wired Headphones                     20491.0       11.99\n",
       "iPhone                                6845.0      700.00"
      ]
     },
     "execution_count": 24,
     "metadata": {},
     "output_type": "execute_result"
    }
   ],
   "source": [
    "product_grp=pd.merge(product_quant_df,product_price_df,left_index=True,right_index=True)\n",
    "product_grp"
   ]
  },
  {
   "cell_type": "code",
   "execution_count": 25,
   "metadata": {
    "colab": {
     "base_uri": "https://localhost:8080/",
     "height": 515
    },
    "executionInfo": {
     "elapsed": 40,
     "status": "ok",
     "timestamp": 1651980847719,
     "user": {
      "displayName": "nyi bo",
      "userId": "17231526246512574964"
     },
     "user_tz": -390
    },
    "id": "ypmaRnzuQGUk",
    "outputId": "c917678e-e605-4a25-dd1f-a75da0b62bfd"
   },
   "outputs": [
    {
     "data": {
      "image/png": "[encoded data removed]",
      "text/plain": [
       "<Figure size 864x432 with 2 Axes>"
      ]
     },
     "metadata": {
      "needs_background": "light"
     },
     "output_type": "display_data"
    }
   ],
   "source": [
    "fig,ax=plt.subplots(figsize=(12,6))\n",
    "ax1=ax.twinx()\n",
    "\n",
    "\n",
    "# n=len(product_grp.index)\n",
    "# r = np.arange(n)\n",
    "# width = 0.35\n",
    "\n",
    "\n",
    "ax.bar(product_grp.index,product_grp[\"Quantity Ordered\"],label=\"Quantity\")\n",
    "ax1.plot(product_grp.index,product_grp[\"Price Each\"],color=\"red\",label=\"Price each\")\n",
    "ax.tick_params(labelrotation=90)\n",
    "\n",
    "ax.set_ylabel(\"Quantity\")\n",
    "ax1.set_ylabel(\"Price Each\")\n",
    "plt.grid()\n",
    "ax1.legend()\n",
    "plt.show()"
   ]
  },
  {
   "cell_type": "markdown",
   "metadata": {
    "id": "jOFmwtoFdtqI"
   },
   "source": [
    "<p><code>Answer:</code>Batteries are the most sold and the reason behind must be their prices. They are really cheap </p>\n",
    "<hr>"
   ]
  },
  {
   "cell_type": "markdown",
   "metadata": {
    "id": "v2pOsrOPeoz5"
   },
   "source": [
    "<h1><strong>Further Analysis</strong></h2>"
   ]
  },
  {
   "cell_type": "markdown",
   "metadata": {
    "id": "86BLDT1jgEG6"
   },
   "source": [
    "<h2>Amount of orders and total sales through out time</h2>"
   ]
  },
  {
   "cell_type": "code",
   "execution_count": 26,
   "metadata": {
    "colab": {
     "base_uri": "https://localhost:8080/",
     "height": 351
    },
    "executionInfo": {
     "elapsed": 36,
     "status": "ok",
     "timestamp": 1651980847720,
     "user": {
      "displayName": "nyi bo",
      "userId": "17231526246512574964"
     },
     "user_tz": -390
    },
    "id": "LEHrhzHKeIGO",
    "outputId": "2082450c-8a25-4cde-f023-4ff6b31a3809"
   },
   "outputs": [
    {
     "data": {
      "image/png": "[encoded data removed]",
      "text/plain": [
       "<Figure size 1152x360 with 3 Axes>"
      ]
     },
     "metadata": {
      "needs_background": "light"
     },
     "output_type": "display_data"
    }
   ],
   "source": [
    "from matplotlib import dates as mdates\n",
    "fig,[ax1,ax3]=plt.subplots(1,2,figsize=(16,5))\n",
    "ax2=ax1.twinx()\n",
    "ax1.plot(df[\"Order Date\"].dt.date.value_counts().sort_index(),label=\"orders per day\")\n",
    "ax2.plot(df.groupby(by=df[\"Order Date\"].dt.date)[\"Total Price\"].sum(),color=\"yellow\",label=\"total sales per day\")\n",
    "ax1.grid(True)\n",
    "ax1.xaxis.set_major_formatter(\n",
    "    mdates.ConciseDateFormatter(ax.xaxis.get_major_locator()))\n",
    "ax3.xaxis.set_major_formatter(\n",
    "    mdates.ConciseDateFormatter(ax.xaxis.get_major_locator()))\n",
    "\n",
    "\n",
    "ax3.plot(df.groupby(by=df[\"Order Date\"].dt.date)[\"Total Price\"].sum()/df[\"Order Date\"].dt.date.value_counts().sort_index(),color=\"red\",label=\"sales per order per day\")\n",
    "\n",
    "ax1.legend(loc=(0,1))\n",
    "ax2.legend()\n",
    "ax3.legend()\n",
    "ax1.set_ylabel(\"number of orders\")\n",
    "ax2.set_ylabel(\"total sales\")\n",
    "plt.show()"
   ]
  },
  {
   "cell_type": "markdown",
   "metadata": {
    "id": "gRKt06jgvgtW"
   },
   "source": [
    "<h2>The lower the price, more tendency to buy</h2>"
   ]
  },
  {
   "cell_type": "code",
   "execution_count": 27,
   "metadata": {
    "colab": {
     "base_uri": "https://localhost:8080/",
     "height": 351
    },
    "executionInfo": {
     "elapsed": 2367,
     "status": "ok",
     "timestamp": 1651981189059,
     "user": {
      "displayName": "nyi bo",
      "userId": "17231526246512574964"
     },
     "user_tz": -390
    },
    "id": "OLhBDabRg-4V",
    "outputId": "67156262-42de-4a75-a3ca-04dadff8050d"
   },
   "outputs": [
    {
     "data": {
      "text/plain": [
       "<AxesSubplot:xlabel='Total Price', ylabel='Quantity Ordered'>"
      ]
     },
     "execution_count": 27,
     "metadata": {},
     "output_type": "execute_result"
    },
    {
     "data": {
      "image/png": "[encoded data removed]",
      "text/plain": [
       "<Figure size 864x360 with 1 Axes>"
      ]
     },
     "metadata": {
      "needs_background": "light"
     },
     "output_type": "display_data"
    }
   ],
   "source": [
    "fig=plt.subplots(figsize=(12,5))\n",
    "sns.scatterplot(data=df,x=\"Total Price\",y=\"Quantity Ordered\")"
   ]
  },
  {
   "cell_type": "code",
   "execution_count": 28,
   "metadata": {
    "colab": {
     "base_uri": "https://localhost:8080/",
     "height": 297
    },
    "executionInfo": {
     "elapsed": 1317,
     "status": "ok",
     "timestamp": 1651981464213,
     "user": {
      "displayName": "nyi bo",
      "userId": "17231526246512574964"
     },
     "user_tz": -390
    },
    "id": "h4AWvb0IiSTi",
    "outputId": "382a93c6-bae3-4fa9-fa09-15459298e15b"
   },
   "outputs": [
    {
     "data": {
      "text/plain": [
       "<AxesSubplot:xlabel='Product_cat', ylabel='Count'>"
      ]
     },
     "execution_count": 28,
     "metadata": {},
     "output_type": "execute_result"
    },
    {
     "data": {
      "image/png": "[encoded data removed]",
      "text/plain": [
       "<Figure size 432x288 with 1 Axes>"
      ]
     },
     "metadata": {
      "needs_background": "light"
     },
     "output_type": "display_data"
    }
   ],
   "source": [
    "sns.histplot(data=df,x=\"Product_cat\",hue=\"Quantity_cat\")"
   ]
  },
  {
   "cell_type": "markdown",
   "metadata": {
    "id": "gaahGxnaxU7l"
   },
   "source": [
    "<ul>\n",
    "  <li>Here market means products which are bought more than 2</li>\n",
    "  <li>product are catagorized into four groups [cheap,expensive, fancy and affordable]\n",
    "</ul>\n",
    "<p><code>Note</code>Notice that onely cheap and affordable products are bought in market quantity</p>"
   ]
  },
  {
   "cell_type": "code",
   "execution_count": null,
   "metadata": {
    "id": "1kImFezCwIOp"
   },
   "outputs": [],
   "source": []
  },
  {
   "cell_type": "code",
   "execution_count": null,
   "metadata": {},
   "outputs": [],
   "source": []
  }
 ],
 "metadata": {
  "colab": {
   "authorship_tag": "ABX9TyMptLVNsOtAF+YGItNWVcYR",
   "collapsed_sections": [],
   "name": "Analysis.ipynb",
   "provenance": []
  },
  "kernelspec": {
   "display_name": "panel_exe",
   "language": "python",
   "name": "panel_exe"
  },
  "language_info": {
   "codemirror_mode": {
    "name": "ipython",
    "version": 3
   },
   "file_extension": ".py",
   "mimetype": "text/x-python",
   "name": "python",
   "nbconvert_exporter": "python",
   "pygments_lexer": "ipython3",
   "version": "3.9.7"
  }
 },
 "nbformat": 4,
 "nbformat_minor": 4
}
