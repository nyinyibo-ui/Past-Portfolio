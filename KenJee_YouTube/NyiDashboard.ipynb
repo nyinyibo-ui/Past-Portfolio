{
 "cells": [
  {
   "cell_type": "code",
   "execution_count": 1,
   "id": "adf562c8",
   "metadata": {},
   "outputs": [],
   "source": [
    "#import libs\n",
    "import pandas as pd\n",
    "import numpy as np\n",
    "import plotly.graph_objects as go\n",
    "import plotly.express as px\n",
    "import streamlit as st\n",
    "from datetime import datetime"
   ]
  },
  {
   "cell_type": "code",
   "execution_count": 2,
   "id": "872ddc6d",
   "metadata": {},
   "outputs": [],
   "source": [
    "#define functions\n",
    "\n",
    "\n",
    "def loadData():\n",
    "    \n",
    "    \"\"\"Load the data and do light feature engineering\"\"\"\n",
    "    #load data\n",
    "    df_agg=pd.read_csv(\"Project_data/Aggregated_Metrics_By_Video.csv\").iloc[1:,:]\n",
    "    df_agg_sub=pd.read_csv(\"Project_data/Aggregated_Metrics_By_Country_And_Subscriber_Status.csv\")\n",
    "    df_comment=pd.read_csv(\"Project_data/All_Comments_Final.csv\")\n",
    "    df_datetime=pd.read_csv(\"Project_data/Video_Performance_Over_Time.csv\")\n",
    "    #feature engineering\n",
    "    #fix the columns for proper looking\n",
    "    df_agg.columns = ['Video','Video title','Video publish time','Comments added','Shares','Dislikes','Likes',\n",
    "                          'Subscribers lost','Subscribers gained','RPM(USD)','CPM(USD)','Average % viewed','Average view duration',\n",
    "                          'Views','Watch time (hours)','Subscribers','Your estimated revenue (USD)','Impressions','Impressions ctr(%)']\n",
    "\n",
    "\n",
    "    #change dtypes\n",
    "    df_agg[\"Video publish time\"]=pd.to_datetime(df_agg[\"Video publish time\"])\n",
    "    df_agg[\"Average view duration\"]=df_agg[\"Average view duration\"].apply(lambda x: datetime.strptime(x,\"%H:%M:%S\"))\n",
    "    df_agg[\"Average duration sec\"]=df_agg[\"Average view duration\"].apply(lambda x: x.second+x.minute*60+x.hour*360)\n",
    "    df_datetime[\"Date\"]=pd.to_datetime(df_datetime[\"Date\"])\n",
    "\n",
    "    #add some necessary features\n",
    "    df_agg[\"Engagement_ratio\"]=(df_agg[\"Comments added\"]+df_agg[\"Shares\"]+df_agg[\"Dislikes\"]+df_agg[\"Likes\"])/df_agg[\"Views\"]\n",
    "    df_agg[\"ViewsPerSubscriber_gained\"]=df_agg[\"Views\"]/df_agg[\"Subscribers gained\"]#number of views to gain subsriber\n",
    "\n",
    "\n",
    "    df_agg.sort_values(by=\"Video publish time\",ascending=False,inplace=True)\n",
    "    \n",
    "    return df_agg,df_agg_sub,df_comment,df_datetime"
   ]
  },
  {
   "cell_type": "code",
   "execution_count": 3,
   "id": "62b77e3a",
   "metadata": {},
   "outputs": [],
   "source": [
    "#create dataframes using the function\n",
    "df_agg,df_agg_sub,df_comment,df_time=loadData()"
   ]
  },
  {
   "cell_type": "code",
   "execution_count": 4,
   "id": "7505a48b-044f-43d5-b769-bc0d95dd2142",
   "metadata": {},
   "outputs": [
    {
     "name": "stderr",
     "output_type": "stream",
     "text": [
      "2022-04-16 14:21:48.572 \n",
      "  \u001b[33m\u001b[1mWarning:\u001b[0m to view this Streamlit app on a browser, run it with the following\n",
      "  command:\n",
      "\n",
      "    streamlit run C:\\Users\\alexe\\Anaconda3\\envs\\YT_Dashboard\\lib\\site-packages\\ipykernel_launcher.py [ARGUMENTS]\n"
     ]
    }
   ],
   "source": [
    "## Start building Streamlit App\n",
    "add_sidebar=st.sidebar.selectbox('Aggregate or Individual Video', ('Aggregate Metrics','Individual Video Analysis'))"
   ]
  },
  {
   "cell_type": "code",
   "execution_count": null,
   "id": "f4de3c08-535b-4e56-b74b-ff804b324c5b",
   "metadata": {},
   "outputs": [],
   "source": []
  }
 ],
 "metadata": {
  "kernelspec": {
   "display_name": "YT_Dashboard",
   "language": "python",
   "name": "yt_dashboard"
  },
  "language_info": {
   "codemirror_mode": {
    "name": "ipython",
    "version": 3
   },
   "file_extension": ".py",
   "mimetype": "text/x-python",
   "name": "python",
   "nbconvert_exporter": "python",
   "pygments_lexer": "ipython3",
   "version": "3.8.13"
  }
 },
 "nbformat": 4,
 "nbformat_minor": 5
}
